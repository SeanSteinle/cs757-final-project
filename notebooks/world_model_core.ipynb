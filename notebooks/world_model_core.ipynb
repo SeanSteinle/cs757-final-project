{
 "cells": [
  {
   "cell_type": "markdown",
   "id": "98bd1649-aa3f-4c0c-a7a2-e9a7d07e76c8",
   "metadata": {},
   "source": [
    "# World Model Core\n",
    "*Sean Steinle, Kiya Aminfar*\n",
    "\n",
    "This notebook walks through the core aspects of world models, developing crucial pieces of code sequentially. Not that this code isn't meant for scale -- instead, this is for a demonstration of how we developed the code that we did.\n",
    "\n",
    "## Table of Contents\n",
    "1. [Collecting Rollout Data](#Collecting-Rollout-Data)\n",
    "2. [Training the VAE](#Training-the-VAE)\n",
    "3. [Training the MDN-RNN](#Training-the-MDN-RNN)\n",
    "    - [Prepping Rollout Data for the MDN-RNN](#Prepping-Rollout-Data-for-the-MDN-RNN)\n",
    "    - [Core Training](#Core-Training)\n",
    "4. [Training the Controller](#Training-the-Controller)\n",
    "5. [Early Results](#Early-Results)"
   ]
  },
  {
   "cell_type": "code",
   "execution_count": 1,
   "id": "21544f3f-d6e2-4fda-8b1d-4e6b51e934bd",
   "metadata": {},
   "outputs": [],
   "source": [
    "import gymnasium as gym\n",
    "import matplotlib.pyplot as plt\n",
    "import os\n",
    "import numpy as np"
   ]
  },
  {
   "cell_type": "markdown",
   "id": "a7847949-423a-47be-a72d-62322c9143ee",
   "metadata": {},
   "source": [
    "## Collecting Rollout Data"
   ]
  },
  {
   "cell_type": "code",
   "execution_count": 2,
   "id": "17fe9254-55f2-4148-84fc-aa3d9452e7af",
   "metadata": {
    "scrolled": true
   },
   "outputs": [],
   "source": [
    "#Let's begin by creating an instance of our humanoid environment and checking out what basic observations look like.\n",
    "env = gym.make('Humanoid-v5', render_mode=\"rgb_array\")\n",
    "obs, info = env.reset()"
   ]
  },
  {
   "cell_type": "code",
   "execution_count": 3,
   "id": "b47c4e48-4af5-4ca9-be13-59301b800e17",
   "metadata": {
    "scrolled": true
   },
   "outputs": [
    {
     "data": {
      "text/plain": [
       "((348,),\n",
       " array([ 1.39268283e+00,  9.91937144e-01,  9.44525677e-03,  3.05778112e-03,\n",
       "         4.25122819e-03,  3.89551230e-03, -6.64649138e-03, -3.33043362e-03,\n",
       "         8.83578660e-03, -7.65481172e-03, -3.32984040e-03,  7.91978014e-03,\n",
       "        -7.43426079e-03,  7.32167683e-03, -9.19272568e-03, -8.97806422e-04,\n",
       "         2.29475980e-03, -2.74734731e-03, -6.14699041e-03,  1.34900528e-03,\n",
       "         3.89232034e-03, -9.94205042e-04,  7.11374700e-03,  3.53623743e-03,\n",
       "         9.81995706e-03,  3.03830396e-03, -9.44202346e-03,  9.03580781e-03,\n",
       "        -1.21417030e-04,  5.73297512e-03, -9.94344368e-03,  3.64776655e-03,\n",
       "         2.91604003e-03, -6.41789646e-03, -9.80838337e-03,  7.64872058e-03,\n",
       "        -5.22639824e-03,  7.72532911e-03,  7.37694688e-03, -3.57145284e-03,\n",
       "        -7.54092664e-03, -2.81269564e-03,  2.96084784e-03,  2.70164935e-03,\n",
       "        -9.19551159e-03,  2.30438464e+00,  2.28720705e+00,  4.50605807e-02,\n",
       "        -1.36298659e-03,  7.36661043e-02,  4.60364686e-02, -1.59461382e-01,\n",
       "        -8.98144498e-02,  4.35617764e+00,  8.90746237e+00,  9.54603478e-02,\n",
       "         9.09316658e-02,  1.15184909e-02, -1.99098141e-04,  1.17786110e-02,\n",
       "         1.88034003e-03, -6.05539384e-02, -1.02668929e-02,  4.39927137e-01,\n",
       "         2.26194671e+00,  5.80360351e-02,  4.40535629e-02,  6.63597101e-02,\n",
       "        -2.50527777e-04,  8.94354884e-03, -6.02176488e-05, -3.04599044e-01,\n",
       "        -1.29678983e-02,  1.94144240e-01,  6.61619413e+00,  2.72206113e-01,\n",
       "         2.34327207e-01,  5.09381053e-02, -9.86607742e-03, -1.86827986e-02,\n",
       "        -7.57835823e-02, -1.06946922e-01, -4.36512953e-01, -8.64177374e-01,\n",
       "         4.75175093e+00,  9.27477784e-01,  9.11732968e-01,  2.04977795e-02,\n",
       "        -3.58015769e-03, -2.54353629e-02, -1.19690676e-01, -4.60717028e-02,\n",
       "        -2.13288554e-01, -1.55580470e+00,  2.75569617e+00,  1.04601999e+00,\n",
       "         1.03703333e+00,  1.35420482e-02, -1.63919966e-03, -1.72959941e-02,\n",
       "        -9.78788663e-02, -2.26245748e-02, -1.28033562e-01, -1.35094448e+00,\n",
       "         1.76714587e+00,  2.72601280e-01,  2.29830407e-01,  5.64837712e-02,\n",
       "         1.11370979e-02, -1.91711918e-02,  8.28111331e-02, -1.13726191e-01,\n",
       "         4.65035083e-01, -8.50307770e-01,  4.75175093e+00,  9.31224767e-01,\n",
       "         9.03487016e-01,  3.26015936e-02,  4.85379255e-03, -2.63645823e-02,\n",
       "         1.58318280e-01, -4.77912076e-02,  2.80533714e-01, -1.54843083e+00,\n",
       "         2.75569617e+00,  1.04960403e+00,  1.02992042e+00,  2.43538184e-02,\n",
       "         2.63665321e-03, -1.88666002e-02,  1.43329712e-01, -2.47651758e-02,\n",
       "         1.88141238e-01, -1.34624663e+00,  1.76714587e+00,  4.27142793e-01,\n",
       "         3.23919648e-01,  1.28739452e-01,  3.30768550e-02, -4.20702358e-02,\n",
       "         1.79015871e-01,  1.09805772e-01, -4.28894975e-01,  7.12189746e-01,\n",
       "         1.66108048e+00,  3.18564551e-01,  3.37531255e-01,  1.78777387e-01,\n",
       "         7.99262681e-02, -1.52812299e-01,  1.28507267e-01,  3.40188468e-01,\n",
       "        -3.04474785e-01,  5.36316567e-01,  1.22954019e+00,  4.27997077e-01,\n",
       "         3.36562928e-01,  1.14728287e-01, -2.97317986e-02, -4.02479372e-02,\n",
       "        -1.71309180e-01,  1.02519949e-01,  4.01920964e-01,  7.28522528e-01,\n",
       "         1.66108048e+00,  3.21687089e-01,  3.44806878e-01,  1.68065686e-01,\n",
       "        -7.39356216e-02, -1.53357836e-01, -1.24535746e-01,  3.34025949e-01,\n",
       "         2.88623072e-01,  5.48633924e-01,  1.22954019e+00,  3.17494275e-03,\n",
       "        -9.58556573e-03,  8.83547332e-03,  1.13861364e-02,  5.11650861e-03,\n",
       "         9.99914400e-03,  3.10354018e-03, -3.85176222e-03,  8.82344200e-03,\n",
       "         9.89841033e-03,  5.09765569e-03,  9.84359335e-03, -6.83878737e-03,\n",
       "        -3.97351167e-03,  8.73758001e-03,  9.91446030e-03,  3.80781224e-03,\n",
       "         9.81405396e-03, -3.18492404e-03, -1.04167027e-02,  1.15259572e-02,\n",
       "         9.55501270e-03,  3.83199499e-03,  1.03409506e-02, -3.23199397e-03,\n",
       "        -6.11411559e-04,  1.17676888e-02,  1.34050656e-02,  3.85541776e-03,\n",
       "         1.01405411e-02, -3.23199397e-03, -6.11411559e-04,  1.17676888e-02,\n",
       "         1.34050656e-02,  3.85541776e-03,  1.01405411e-02, -1.45698372e-02,\n",
       "         3.53428661e-03,  1.40758809e-02,  1.05092497e-02,  4.02045611e-03,\n",
       "         1.03763788e-02, -1.45320645e-02, -3.84057086e-03,  1.39044292e-02,\n",
       "         7.60174032e-03,  4.00219174e-03,  1.05214482e-02, -1.45320645e-02,\n",
       "        -3.84057086e-03,  1.39044292e-02,  7.60174032e-03,  4.00219174e-03,\n",
       "         1.05214482e-02,  1.73623819e-04, -5.59855529e-03,  2.14841998e-03,\n",
       "         1.05553345e-02,  3.49046728e-03,  9.40253708e-03,  1.40537339e-04,\n",
       "        -3.56867624e-03,  2.01691172e-04,  1.05857475e-02,  3.80271506e-03,\n",
       "         9.72760494e-03,  5.60376775e-03, -8.92473859e-03,  1.19547113e-02,\n",
       "         1.15413568e-02,  6.42562448e-03,  9.60093698e-03,  5.58197988e-03,\n",
       "        -2.55495393e-03,  1.85866644e-02,  1.16658467e-02,  5.35921890e-03,\n",
       "         1.06255953e-02,  0.00000000e+00,  0.00000000e+00,  0.00000000e+00,\n",
       "         0.00000000e+00,  0.00000000e+00,  0.00000000e+00,  0.00000000e+00,\n",
       "         0.00000000e+00,  0.00000000e+00,  0.00000000e+00,  0.00000000e+00,\n",
       "         0.00000000e+00,  0.00000000e+00,  0.00000000e+00,  0.00000000e+00,\n",
       "         0.00000000e+00,  0.00000000e+00,  0.00000000e+00,  0.00000000e+00,\n",
       "         0.00000000e+00,  0.00000000e+00,  0.00000000e+00,  0.00000000e+00,\n",
       "         0.00000000e+00,  0.00000000e+00,  0.00000000e+00,  0.00000000e+00,\n",
       "         0.00000000e+00,  0.00000000e+00,  0.00000000e+00,  0.00000000e+00,\n",
       "         0.00000000e+00,  0.00000000e+00,  0.00000000e+00,  0.00000000e+00,\n",
       "         0.00000000e+00,  0.00000000e+00,  0.00000000e+00,  0.00000000e+00,\n",
       "         0.00000000e+00,  0.00000000e+00,  0.00000000e+00,  0.00000000e+00,\n",
       "         0.00000000e+00,  0.00000000e+00,  0.00000000e+00,  0.00000000e+00,\n",
       "         0.00000000e+00,  0.00000000e+00,  0.00000000e+00,  0.00000000e+00,\n",
       "         0.00000000e+00,  0.00000000e+00,  0.00000000e+00,  0.00000000e+00,\n",
       "         0.00000000e+00,  0.00000000e+00,  0.00000000e+00,  0.00000000e+00,\n",
       "         0.00000000e+00,  0.00000000e+00,  0.00000000e+00,  0.00000000e+00,\n",
       "         0.00000000e+00,  0.00000000e+00,  0.00000000e+00,  0.00000000e+00,\n",
       "         0.00000000e+00,  0.00000000e+00,  0.00000000e+00,  0.00000000e+00,\n",
       "         0.00000000e+00,  0.00000000e+00,  0.00000000e+00,  0.00000000e+00,\n",
       "         0.00000000e+00,  0.00000000e+00,  0.00000000e+00,  0.00000000e+00,\n",
       "         0.00000000e+00,  0.00000000e+00,  0.00000000e+00,  0.00000000e+00,\n",
       "         0.00000000e+00,  0.00000000e+00,  0.00000000e+00,  0.00000000e+00,\n",
       "         0.00000000e+00,  0.00000000e+00,  0.00000000e+00,  0.00000000e+00,\n",
       "         0.00000000e+00,  0.00000000e+00,  0.00000000e+00,  0.00000000e+00]))"
      ]
     },
     "execution_count": 3,
     "metadata": {},
     "output_type": "execute_result"
    }
   ],
   "source": [
    "obs.shape, obs"
   ]
  },
  {
   "cell_type": "code",
   "execution_count": 4,
   "id": "2035ecfe-44e4-4ab0-b4bb-7213f9d50c5b",
   "metadata": {},
   "outputs": [
    {
     "data": {
      "text/plain": [
       "{'x_position': np.float64(0.005202448265680894),\n",
       " 'y_position': np.float64(-0.0048011356635689765),\n",
       " 'tendon_length': array([0.00829492, 0.01124962]),\n",
       " 'tendon_velocity': array([-0.00034838, -0.00339049]),\n",
       " 'distance_from_origin': np.float64(0.007079291745441775)}"
      ]
     },
     "execution_count": 4,
     "metadata": {},
     "output_type": "execute_result"
    }
   ],
   "source": [
    "info"
   ]
  },
  {
   "cell_type": "markdown",
   "id": "2de32bf7-40c6-40e3-bbd3-b1131e598b18",
   "metadata": {},
   "source": [
    "As we can see, the humanoid environment gives us a TON of observations! We get dozens of variables representing various positions and velocities of body parts, the center of mass, and a lot of other variables I hardly understand. For an exhaustive list, see the [doc](https://gymnasium.farama.org/environments/mujoco/humanoid/#observation-space). The fact that there are so many variables here is what makes learning latent observations so obvious!\n",
    "\n",
    "We also get some nice summary stats in info, but we aren't going to include them in our scrape."
   ]
  },
  {
   "cell_type": "code",
   "execution_count": 5,
   "id": "00bc4518-6772-473b-8b89-5984a755ac24",
   "metadata": {},
   "outputs": [],
   "source": [
    "def collect_rollout_data(env_name: str, out_dir: str, n_timesteps: int=10000, print_n_episodes: int=1000):\n",
    "    \"\"\"Simulates `n_timesteps` in the `env_name` environment, saving observations, rewards, and actions to a triplet of .npy files at `out_dir`.\"\"\"\n",
    "    env = gym.make(env_name, render_mode='rgb_array')\n",
    "    obs, info = env.reset()\n",
    "    observations, rewards, actions, done = [], [] , [], []\n",
    "    episode_count = 0\n",
    "\n",
    "    for timestep in range(n_timesteps):  # Run for n_timesteps or until the episode ends\n",
    "        action = env.action_space.sample() #select random action\n",
    "        obs, reward, terminated, truncated, info = env.step(action) #execute and get results\n",
    "        observations.append(obs) #save observation\n",
    "        rewards.append(reward) #save reward\n",
    "        actions.append(action) #save action\n",
    "        done.append(terminated or truncated) #save timestep of each episode's boundary\n",
    "        if terminated or truncated: #check for game over, if so reset env\n",
    "            episode_count+=1\n",
    "            if episode_count % print_n_episodes == 0: print(f\"finished {episode_count} episodes\") #provide update on training\n",
    "            observation, info = env.reset()\n",
    "        env.close()\n",
    "    np_obs, np_rewards, np_actions, np_done = np.array(observations), np.array(rewards), np.array(actions), np.array(done)\n",
    "    print(f\"observations has shape: {np_obs.shape}\\trewards has shape: {np_rewards.shape}\\tactions has shape: {np_actions.shape}\\tdone has shape: {np_done.shape}\")\n",
    "    np.save(f'{out_dir}/{env_name}_{n_timesteps}_rollout_observations.npy', np_obs) #load with: new_obs = np.load(\"../data/processed/Humanoid-v5_10000_rollout_observations.npy\")\n",
    "    np.save(f'{out_dir}/{env_name}_{n_timesteps}_rollout_rewards.npy', np_rewards)\n",
    "    np.save(f'{out_dir}/{env_name}_{n_timesteps}_rollout_actions.npy', np_actions)\n",
    "    np.save(f'{out_dir}/{env_name}_{n_timesteps}_rollout_done.npy', np_done)\n",
    "    return np_obs, np_rewards, np_actions, np_done"
   ]
  },
  {
   "cell_type": "code",
   "execution_count": 6,
   "id": "c936e8b4-1012-48af-9f9d-a1c0fb0da2ed",
   "metadata": {
    "scrolled": true
   },
   "outputs": [
    {
     "name": "stdout",
     "output_type": "stream",
     "text": [
      "finished 100 episodes\n",
      "finished 200 episodes\n",
      "finished 300 episodes\n",
      "finished 400 episodes\n",
      "observations has shape: (10000, 348)\trewards has shape: (10000,)\tactions has shape: (10000, 17)\tdone has shape: (10000,)\n"
     ]
    }
   ],
   "source": [
    "humanoid_obs, humanoid_rewards, humanoid_actions, humanoid_done = collect_rollout_data('Humanoid-v5', \"../data/processed\", 10000, 100)"
   ]
  },
  {
   "cell_type": "code",
   "execution_count": 7,
   "id": "8bea542a-9109-4bd2-b80f-8e4775dde9a0",
   "metadata": {},
   "outputs": [
    {
     "data": {
      "text/plain": [
       "array([4.89290012, 4.92391502, 4.90372702, ..., 4.93088997, 4.99549046,\n",
       "       4.98390821])"
      ]
     },
     "execution_count": 7,
     "metadata": {},
     "output_type": "execute_result"
    }
   ],
   "source": [
    "humanoid_rewards"
   ]
  },
  {
   "cell_type": "code",
   "execution_count": 8,
   "id": "26d613d5-e3a6-43f6-abf0-c3cfe81bd712",
   "metadata": {},
   "outputs": [
    {
     "data": {
      "text/plain": [
       "array([[ 0.23505302,  0.36002648, -0.29734674, ..., -0.05805098,\n",
       "         0.24405803,  0.2011473 ],\n",
       "       [ 0.38455474, -0.3011133 , -0.05101318, ..., -0.0141068 ,\n",
       "        -0.16276172, -0.0362853 ],\n",
       "       [ 0.29848835, -0.03167867,  0.21788624, ..., -0.36390272,\n",
       "         0.21806365, -0.21161628],\n",
       "       ...,\n",
       "       [-0.04431577,  0.19833574, -0.29948762, ..., -0.01792738,\n",
       "         0.31818205, -0.14132701],\n",
       "       [-0.2908491 ,  0.21173128,  0.33720645, ...,  0.00166669,\n",
       "         0.01706297, -0.27317977],\n",
       "       [ 0.00698648,  0.09699604, -0.19836254, ...,  0.3916585 ,\n",
       "         0.35469708, -0.10838389]], dtype=float32)"
      ]
     },
     "execution_count": 8,
     "metadata": {},
     "output_type": "execute_result"
    }
   ],
   "source": [
    "humanoid_actions"
   ]
  },
  {
   "cell_type": "code",
   "execution_count": 9,
   "id": "0536b8fe-b7c4-4b15-9ec7-968f2c8b6845",
   "metadata": {
    "scrolled": true
   },
   "outputs": [
    {
     "data": {
      "text/plain": [
       "(array([False, False, False, ..., False, False, False]), np.int64(412))"
      ]
     },
     "execution_count": 9,
     "metadata": {},
     "output_type": "execute_result"
    }
   ],
   "source": [
    "humanoid_done, humanoid_done.sum()"
   ]
  },
  {
   "cell_type": "markdown",
   "id": "60900362-cf6f-4514-9708-4fad349d3e9f",
   "metadata": {},
   "source": [
    "## Training the VAE\n",
    "\n",
    "Now that we have an easy function for gathering experiences in the environment, we need to train the VAE module of our world model which will compress the observation space into latent space with fewer dimensions.\n",
    "\n",
    "Note that the original World Model implementation worked with tensorflow 1.18.0. This is incredibly outdated (worked with Python 3.5), so let's get a newer version (tensorflow 2.19.0). Additionally, we need to change the structure of the VAE from working with images to working with a vector of observation data! Luckily, ChatGPT is very good at updating code (or it will be very obvious if it is not!)."
   ]
  },
  {
   "cell_type": "code",
   "execution_count": 10,
   "id": "e1389404-530a-43a4-862c-0403f544239a",
   "metadata": {},
   "outputs": [
    {
     "name": "stderr",
     "output_type": "stream",
     "text": [
      "2025-05-10 10:06:02.310980: I tensorflow/core/util/port.cc:153] oneDNN custom operations are on. You may see slightly different numerical results due to floating-point round-off errors from different computation orders. To turn them off, set the environment variable `TF_ENABLE_ONEDNN_OPTS=0`.\n",
      "2025-05-10 10:06:02.330789: E external/local_xla/xla/stream_executor/cuda/cuda_fft.cc:467] Unable to register cuFFT factory: Attempting to register factory for plugin cuFFT when one has already been registered\n",
      "WARNING: All log messages before absl::InitializeLog() is called are written to STDERR\n",
      "E0000 00:00:1746885962.350748    6812 cuda_dnn.cc:8579] Unable to register cuDNN factory: Attempting to register factory for plugin cuDNN when one has already been registered\n",
      "E0000 00:00:1746885962.355915    6812 cuda_blas.cc:1407] Unable to register cuBLAS factory: Attempting to register factory for plugin cuBLAS when one has already been registered\n",
      "W0000 00:00:1746885962.371254    6812 computation_placer.cc:177] computation placer already registered. Please check linkage and avoid linking the same target more than once.\n",
      "W0000 00:00:1746885962.371279    6812 computation_placer.cc:177] computation placer already registered. Please check linkage and avoid linking the same target more than once.\n",
      "W0000 00:00:1746885962.371281    6812 computation_placer.cc:177] computation placer already registered. Please check linkage and avoid linking the same target more than once.\n",
      "W0000 00:00:1746885962.371283    6812 computation_placer.cc:177] computation placer already registered. Please check linkage and avoid linking the same target more than once.\n",
      "2025-05-10 10:06:02.376935: I tensorflow/core/platform/cpu_feature_guard.cc:210] This TensorFlow binary is optimized to use available CPU instructions in performance-critical operations.\n",
      "To enable the following instructions: AVX2 AVX512F AVX512_VNNI FMA, in other operations, rebuild TensorFlow with the appropriate compiler flags.\n"
     ]
    }
   ],
   "source": [
    "import tensorflow as tf\n",
    "from tensorflow.keras import layers, Model, saving\n",
    "\n",
    "@saving.register_keras_serializable()\n",
    "class MLPVAE(Model):\n",
    "    def __init__(self, input_dim=348, z_size=32, kl_tolerance=0.5):\n",
    "        super(MLPVAE, self).__init__()\n",
    "        self.z_size = z_size\n",
    "        self.kl_tolerance = kl_tolerance\n",
    "\n",
    "        # Encoder\n",
    "        self.encoder = tf.keras.Sequential([\n",
    "            layers.InputLayer(input_shape=(input_dim,)),\n",
    "            layers.Dense(256, activation='relu'),\n",
    "            layers.Dense(128, activation='relu'),\n",
    "            layers.Dense(2 * z_size),  # output both mu and logvar\n",
    "        ])\n",
    "\n",
    "        # Decoder\n",
    "        self.decoder = tf.keras.Sequential([\n",
    "            layers.InputLayer(input_shape=(z_size,)),\n",
    "            layers.Dense(128, activation='relu'),\n",
    "            layers.Dense(256, activation='relu'),\n",
    "            layers.Dense(input_dim, activation='linear'),  # output same shape as input\n",
    "        ])\n",
    "\n",
    "    def sample_z(self, mu, logvar):\n",
    "        eps = tf.random.normal(shape=tf.shape(mu))\n",
    "        sigma = tf.exp(0.5 * logvar)\n",
    "        return mu + sigma * eps\n",
    "\n",
    "    def encode(self, x):\n",
    "        h = self.encoder(x)\n",
    "        mu, logvar = tf.split(h, num_or_size_splits=2, axis=1)\n",
    "        logvar = tf.clip_by_value(logvar, -10.0, 10.0)  # helps with exploding values\n",
    "        return mu, logvar\n",
    "\n",
    "    def decode(self, z):\n",
    "        return self.decoder(z)\n",
    "\n",
    "    def call(self, x):\n",
    "        mu, logvar = self.encode(x)\n",
    "        z = self.sample_z(mu, logvar)\n",
    "        x_recon = self.decode(z)\n",
    "        return x_recon, mu, logvar\n",
    "\n",
    "    def compute_loss(self, x):\n",
    "        x_recon, mu, logvar = self(x)\n",
    "        recon_loss = tf.reduce_mean(tf.reduce_sum(tf.square(x - x_recon), axis=1))\n",
    "        kl_loss = -0.5 * tf.reduce_sum(1 + logvar - tf.square(mu) - tf.exp(logvar), axis=1)\n",
    "        kl_loss = tf.maximum(kl_loss, self.kl_tolerance * self.z_size)\n",
    "        kl_loss = tf.reduce_mean(kl_loss)\n",
    "        total_loss = recon_loss + kl_loss\n",
    "        return total_loss, recon_loss, kl_loss"
   ]
  },
  {
   "cell_type": "markdown",
   "id": "5d97e9ff-74f4-4a65-b397-11e381a66fb6",
   "metadata": {},
   "source": [
    "Let's also write a training function for convenience."
   ]
  },
  {
   "cell_type": "code",
   "execution_count": 11,
   "id": "7ac2fe07-2e6d-4246-a75a-348182aac96a",
   "metadata": {},
   "outputs": [],
   "source": [
    "def create_dataset(x_train, batch_size=64, shuffle_buffer=10000):\n",
    "    # Assuming x_train is a NumPy array of shape [n_samples, 348]\n",
    "    dataset = tf.data.Dataset.from_tensor_slices(x_train.astype(np.float32))\n",
    "    dataset = dataset.shuffle(shuffle_buffer).batch(batch_size).prefetch(tf.data.AUTOTUNE)\n",
    "    return dataset\n",
    "\n",
    "def train_vae(model, dataset, epochs=10, learning_rate=1e-4):\n",
    "    optimizer = tf.keras.optimizers.Adam(learning_rate)\n",
    "\n",
    "    for epoch in range(epochs):\n",
    "        total_loss = 0.0\n",
    "        total_batches = 0\n",
    "        for x_batch in dataset:\n",
    "            with tf.GradientTape() as tape:\n",
    "                loss, recon_loss, kl_loss = model.compute_loss(x_batch)\n",
    "            grads = tape.gradient(loss, model.trainable_variables)\n",
    "            optimizer.apply_gradients(zip(grads, model.trainable_variables))\n",
    "\n",
    "            total_loss += loss.numpy()\n",
    "            total_batches += 1\n",
    "\n",
    "        avg_loss = total_loss / total_batches\n",
    "        print(f\"Epoch {epoch+1}: avg loss = {avg_loss:.4f}\")\n"
   ]
  },
  {
   "cell_type": "code",
   "execution_count": 12,
   "id": "0227816c-8f87-4374-860d-49162c0256d0",
   "metadata": {},
   "outputs": [
    {
     "name": "stderr",
     "output_type": "stream",
     "text": [
      "2025-05-10 10:06:08.435728: E external/local_xla/xla/stream_executor/cuda/cuda_platform.cc:51] failed call to cuInit: INTERNAL: CUDA error: Failed call to cuInit: UNKNOWN ERROR (303)\n",
      "/home/seansteinle/.pyenv/versions/cs757-final-project/lib/python3.10/site-packages/keras/src/layers/core/input_layer.py:27: UserWarning: Argument `input_shape` is deprecated. Use `shape` instead.\n",
      "  warnings.warn(\n",
      "2025-05-10 10:06:25.713385: I tensorflow/core/framework/local_rendezvous.cc:407] Local rendezvous is aborting with status: OUT_OF_RANGE: End of sequence\n"
     ]
    },
    {
     "name": "stdout",
     "output_type": "stream",
     "text": [
      "Epoch 1: avg loss = 263565.5625\n"
     ]
    },
    {
     "name": "stderr",
     "output_type": "stream",
     "text": [
      "2025-05-10 10:06:47.085948: I tensorflow/core/framework/local_rendezvous.cc:407] Local rendezvous is aborting with status: OUT_OF_RANGE: End of sequence\n"
     ]
    },
    {
     "name": "stdout",
     "output_type": "stream",
     "text": [
      "Epoch 2: avg loss = 125894.2422\n",
      "Epoch 3: avg loss = 68511.4688\n"
     ]
    },
    {
     "name": "stderr",
     "output_type": "stream",
     "text": [
      "2025-05-10 10:07:18.918455: I tensorflow/core/framework/local_rendezvous.cc:407] Local rendezvous is aborting with status: OUT_OF_RANGE: End of sequence\n"
     ]
    },
    {
     "name": "stdout",
     "output_type": "stream",
     "text": [
      "Epoch 4: avg loss = 58257.0000\n",
      "Epoch 5: avg loss = 52543.2148\n",
      "Epoch 6: avg loss = 46821.2383\n",
      "Epoch 7: avg loss = 39593.5703\n"
     ]
    },
    {
     "name": "stderr",
     "output_type": "stream",
     "text": [
      "2025-05-10 10:08:16.371272: I tensorflow/core/framework/local_rendezvous.cc:407] Local rendezvous is aborting with status: OUT_OF_RANGE: End of sequence\n"
     ]
    },
    {
     "name": "stdout",
     "output_type": "stream",
     "text": [
      "Epoch 8: avg loss = 33299.0352\n",
      "Epoch 9: avg loss = 28569.9590\n",
      "Epoch 10: avg loss = 24761.4082\n",
      "Epoch 11: avg loss = 22122.9727\n",
      "Epoch 12: avg loss = 20141.1992\n",
      "Epoch 13: avg loss = 18348.6875\n",
      "Epoch 14: avg loss = 16714.6973\n",
      "Epoch 15: avg loss = 15301.8691\n"
     ]
    },
    {
     "name": "stderr",
     "output_type": "stream",
     "text": [
      "2025-05-10 10:10:20.412629: I tensorflow/core/framework/local_rendezvous.cc:407] Local rendezvous is aborting with status: OUT_OF_RANGE: End of sequence\n"
     ]
    },
    {
     "name": "stdout",
     "output_type": "stream",
     "text": [
      "Epoch 16: avg loss = 14170.6035\n",
      "Epoch 17: avg loss = 13216.3174\n",
      "Epoch 18: avg loss = 12370.6289\n",
      "Epoch 19: avg loss = 11716.9619\n",
      "Epoch 20: avg loss = 11140.0439\n"
     ]
    }
   ],
   "source": [
    "# x_train should be a NumPy array of shape (n_samples, 348)\n",
    "x_train = humanoid_obs\n",
    "x_train = (x_train - np.mean(x_train, axis=0)) / (np.std(x_train, axis=0) + 1e-6)\n",
    "\n",
    "dataset = create_dataset(humanoid_obs, batch_size=64)\n",
    "vae = MLPVAE(input_dim=348, z_size=32)\n",
    "train_vae(vae, dataset, epochs=20)"
   ]
  },
  {
   "cell_type": "markdown",
   "id": "47f4012c-cd27-45fd-bbc7-82e4a1be44cd",
   "metadata": {},
   "source": [
    "Loss is going down! At first I got a tons of NAN values, but it's because I wasn't normalizing the input data and I also needed to clip the logvar values we were getting as a result of the encoding process. If you get NANs again, a lower learning rate could help too. Onto saving the model!"
   ]
  },
  {
   "cell_type": "code",
   "execution_count": 13,
   "id": "c1ae0e21-af4e-4a66-b0a0-8be8d82d5a0d",
   "metadata": {},
   "outputs": [],
   "source": [
    "vae.save_weights('../models/vae/humanoid_10000_vae_model.weights.h5') #save ONLY weights -- much simpler than serializing the entire object"
   ]
  },
  {
   "cell_type": "code",
   "execution_count": 14,
   "id": "8abe6c45-c5ae-4854-989f-fa2695cbf459",
   "metadata": {
    "scrolled": true
   },
   "outputs": [],
   "source": [
    "new_vae = MLPVAE(input_dim=348, z_size=32) #instantiate new model object \n",
    "new_vae(tf.zeros((1, 348))) #invoke it to build its shape \n",
    "new_vae.load_weights('../models/vae/humanoid_10000_vae_model.weights.h5') #now load weights into empty vector"
   ]
  },
  {
   "cell_type": "code",
   "execution_count": 15,
   "id": "4d3e5358-9331-49b2-87c9-bba5693775d5",
   "metadata": {},
   "outputs": [
    {
     "data": {
      "text/plain": [
       "<MLPVAE name=mlpvae_1, built=True>"
      ]
     },
     "execution_count": 15,
     "metadata": {},
     "output_type": "execute_result"
    }
   ],
   "source": [
    "new_vae"
   ]
  },
  {
   "cell_type": "code",
   "execution_count": 16,
   "id": "474e51af-98f1-4306-8971-c5d3c8edceb2",
   "metadata": {},
   "outputs": [
    {
     "data": {
      "text/plain": [
       "<MLPVAE name=mlpvae, built=True>"
      ]
     },
     "execution_count": 16,
     "metadata": {},
     "output_type": "execute_result"
    }
   ],
   "source": [
    "vae"
   ]
  },
  {
   "cell_type": "markdown",
   "id": "751d1e06-9bb3-4ffd-bcdd-1e77bc6db66c",
   "metadata": {},
   "source": [
    "## Training the MDN-RNN\n",
    "\n",
    "Now that we have a model which captures observations, we're theoretically ~1/3 done with the project! I say theoretically because this was probably the easiest part of the project. Now onto the meat of world models: capturing the transitions of our environment and training the MDN-RNN!"
   ]
  },
  {
   "cell_type": "markdown",
   "id": "3dc9e9b5-64c8-4c11-8d0a-5ca8cdefa295",
   "metadata": {},
   "source": [
    "### Prepping Rollout Data for the MDN-RNN\n",
    "\n",
    "To train the MDN-RNN, we first need to enhance our basic rollout dataset with predictions of `mu` and `logvar` for each experience. Then we'll feed this information to the MDN-RNN."
   ]
  },
  {
   "cell_type": "code",
   "execution_count": 17,
   "id": "960d5f8f-30a5-45e5-b013-48de1be22c16",
   "metadata": {},
   "outputs": [
    {
     "data": {
      "text/plain": [
       "((10000, 348), (10000,), (10000, 17), (10000,))"
      ]
     },
     "execution_count": 17,
     "metadata": {},
     "output_type": "execute_result"
    }
   ],
   "source": [
    "#We can use the dataset records still in memory. Note that we only need the observations for now!\n",
    "humanoid_obs.shape, humanoid_rewards.shape, humanoid_actions.shape, humanoid_done.shape"
   ]
  },
  {
   "cell_type": "code",
   "execution_count": 18,
   "id": "51554a1a-a2db-4db8-8442-2a18e2b27427",
   "metadata": {},
   "outputs": [
    {
     "data": {
      "text/plain": [
       "<MLPVAE name=mlpvae, built=True>"
      ]
     },
     "execution_count": 18,
     "metadata": {},
     "output_type": "execute_result"
    }
   ],
   "source": [
    "#We can also use the VAE still in memory!\n",
    "vae"
   ]
  },
  {
   "cell_type": "code",
   "execution_count": 19,
   "id": "0e69fb5c-cda7-4adb-ab82-c2e902e7a80d",
   "metadata": {
    "scrolled": true
   },
   "outputs": [
    {
     "data": {
      "text/plain": [
       "array([ 1.40109648e+00,  9.99991324e-01, -2.09374503e-03, -2.97582050e-03,\n",
       "        2.02814760e-03,  5.64103249e-02,  9.16979137e-03, -5.47811860e-03,\n",
       "        1.02078401e-02, -8.49019545e-02, -1.71167293e-02, -4.61241440e-02,\n",
       "       -1.58210413e-02,  3.47086999e-02, -3.93887371e-02, -9.62425597e-02,\n",
       "        5.10217497e-04,  1.76552213e-02, -8.20650955e-03, -8.42943297e-03,\n",
       "        1.19607831e-02,  2.47622933e-02, -1.12776856e-01, -1.95614432e-02,\n",
       "       -1.53352677e-01,  6.11908684e-01, -2.56439194e-01, -1.31310136e+00,\n",
       "        5.27343031e+00,  2.85599299e-01, -1.63061265e+00,  8.53757914e-01,\n",
       "       -7.92272959e+00, -1.22734026e+00, -6.21301546e+00, -9.60282040e-01,\n",
       "        3.39423908e+00, -4.65032510e+00, -1.02764365e+01,  1.05111100e+00,\n",
       "        1.09217756e+00, -1.74632970e+00, -1.73952058e-02,  2.21747859e+00,\n",
       "        1.67433277e+00,  2.30091924e+00,  2.28477017e+00,  4.42346651e-02,\n",
       "        2.78891814e-04,  7.77510624e-02, -6.10290447e-03, -1.64634138e-01,\n",
       "        1.14942495e-02,  4.35345565e+00,  8.90746237e+00,  9.49968468e-02,\n",
       "        9.03234255e-02,  1.12420644e-02,  3.67694051e-04,  1.08752643e-02,\n",
       "        3.21114945e-05, -5.60554336e-02, -1.60896185e-05,  4.38909012e-01,\n",
       "        2.26194671e+00,  5.78058804e-02,  4.31211961e-02,  6.55046266e-02,\n",
       "        9.37628513e-04,  8.52256030e-03,  7.72231689e-04, -2.94928042e-01,\n",
       "       -1.68000607e-02,  1.91576369e-01,  6.61619413e+00,  2.72997023e-01,\n",
       "        2.29667510e-01,  5.36423736e-02, -6.73190754e-03, -1.09700562e-02,\n",
       "       -8.05990761e-02, -6.92582220e-02, -4.58884620e-01, -8.54777860e-01,\n",
       "        4.75175093e+00,  9.28436858e-01,  9.05950150e-01,  2.67935583e-02,\n",
       "       -3.52977656e-03, -2.24467630e-02, -1.41795308e-01, -3.86062214e-02,\n",
       "       -2.52002903e-01, -1.55086273e+00,  2.75569617e+00,  1.04672719e+00,\n",
       "        1.03264202e+00,  1.93243503e-02, -3.04865494e-03, -2.54804151e-02,\n",
       "       -1.23001219e-01, -3.34071077e-02, -1.61265622e-01, -1.34784522e+00,\n",
       "        1.76714587e+00,  2.74149158e-01,  2.34529994e-01,  5.30997748e-02,\n",
       "        1.03310402e-02, -1.68547623e-02,  7.99366306e-02, -1.08905182e-01,\n",
       "        4.47861974e-01, -8.64046954e-01,  4.75175093e+00,  9.33467402e-01,\n",
       "        9.11888541e-01,  2.77139745e-02,  5.66962616e-03, -3.64927306e-02,\n",
       "        1.42382486e-01, -6.19165334e-02,  2.52034326e-01, -1.55537708e+00,\n",
       "        2.75569617e+00,  1.05090619e+00,  1.03776332e+00,  2.09657687e-02,\n",
       "        5.38318237e-03, -4.45499563e-02,  1.24684997e-01, -5.83005011e-02,\n",
       "        1.63169583e-01, -1.35035325e+00,  1.76714587e+00,  4.29082789e-01,\n",
       "        3.35321496e-01,  1.20558377e-01,  3.26740251e-02, -4.39265279e-02,\n",
       "        1.74807509e-01,  1.11903933e-01, -4.11159794e-01,  7.25212935e-01,\n",
       "        1.66108048e+00,  3.25685439e-01,  3.52414686e-01,  1.72067429e-01,\n",
       "        7.59706253e-02, -1.57814853e-01,  1.25372748e-01,  3.41663430e-01,\n",
       "       -2.88899551e-01,  5.52516258e-01,  1.22954019e+00,  4.26041188e-01,\n",
       "        3.27470373e-01,  1.22090086e-01, -3.06687618e-02, -3.96223940e-02,\n",
       "       -1.75338624e-01,  1.03013649e-01,  4.17302497e-01,  7.17621615e-01,\n",
       "        1.66108048e+00,  3.21976835e-01,  3.38270620e-01,  1.69206122e-01,\n",
       "       -7.53709119e-02, -1.50103080e-01, -1.27037787e-01,  3.29430369e-01,\n",
       "        2.97166012e-01,  5.43971254e-01,  1.22954019e+00,  6.20996104e-01,\n",
       "       -2.60517206e-01, -1.30962561e+00,  4.12093810e-03,  2.41814609e-01,\n",
       "       -1.49961979e-01,  5.50989281e-01,  4.98488440e-02,  3.96823333e+00,\n",
       "       -7.46963639e-02,  3.54757378e-01, -1.57649064e-01, -1.07709155e+00,\n",
       "       -4.86743979e-02,  3.96083652e+00, -6.19804154e-02,  1.44483773e-01,\n",
       "       -1.55723210e-01, -2.18562829e-01, -1.22366664e+00, -3.97879562e+00,\n",
       "        7.32551888e-01, -9.90817832e-03, -4.69602184e-02, -6.71788752e-02,\n",
       "        4.98700997e+00, -3.97658977e+00,  3.17212325e+00, -6.93554245e-02,\n",
       "       -9.42603085e-02, -6.71788752e-02,  4.98700997e+00, -3.97658977e+00,\n",
       "        3.17212325e+00, -6.93554245e-02, -9.42603085e-02,  1.60052320e-02,\n",
       "       -4.62521567e+00,  5.34089957e-01, -4.52887828e-01,  2.70742727e-02,\n",
       "       -1.23614098e-01, -2.49169707e-01,  5.65278735e+00,  5.93126059e-01,\n",
       "        3.60878074e+00,  1.32526538e-01, -2.38560579e-01, -2.49169707e-01,\n",
       "        5.65278735e+00,  5.93126059e-01,  3.60878074e+00,  1.32526538e-01,\n",
       "       -2.38560579e-01,  1.47489216e+00, -5.95466382e-01, -1.00875131e-01,\n",
       "       -2.72280993e-02,  7.00027551e-01, -8.43637679e-04,  1.47672896e+00,\n",
       "        6.35433290e-01, -1.34112081e+00, -1.49143213e-02,  9.12525485e-01,\n",
       "        2.10071232e-01,  6.01884649e-01,  1.33364679e+00,  2.35514416e-01,\n",
       "       -5.49448130e-01,  2.57937487e-01, -1.73443359e-01,  6.05578795e-01,\n",
       "        1.35570294e-01, -9.36318247e-01, -5.65008033e-01,  4.47256416e-01,\n",
       "       -3.67051242e-01,  3.60026479e+01,  2.35053018e+01, -2.97346741e+01,\n",
       "       -1.45144155e+00, -3.94896686e+01,  5.58475837e+01, -6.04494452e+01,\n",
       "        1.66903045e+00,  1.44160151e+01, -1.92915335e+01, -4.43924814e+01,\n",
       "        6.06951788e+00, -9.70444828e+00, -3.88198607e+00, -1.45127457e+00,\n",
       "        6.10145070e+00,  5.02868257e+00,  0.00000000e+00,  0.00000000e+00,\n",
       "        0.00000000e+00,  0.00000000e+00,  0.00000000e+00,  0.00000000e+00,\n",
       "        0.00000000e+00,  0.00000000e+00,  0.00000000e+00,  0.00000000e+00,\n",
       "        0.00000000e+00,  0.00000000e+00,  0.00000000e+00,  0.00000000e+00,\n",
       "        0.00000000e+00,  0.00000000e+00,  0.00000000e+00,  0.00000000e+00,\n",
       "        0.00000000e+00,  0.00000000e+00,  0.00000000e+00,  0.00000000e+00,\n",
       "        0.00000000e+00,  0.00000000e+00,  0.00000000e+00,  0.00000000e+00,\n",
       "        0.00000000e+00,  0.00000000e+00,  0.00000000e+00,  0.00000000e+00,\n",
       "        0.00000000e+00,  0.00000000e+00,  0.00000000e+00,  0.00000000e+00,\n",
       "        0.00000000e+00,  0.00000000e+00,  0.00000000e+00,  0.00000000e+00,\n",
       "        0.00000000e+00,  0.00000000e+00,  0.00000000e+00,  0.00000000e+00,\n",
       "        0.00000000e+00,  0.00000000e+00,  0.00000000e+00,  0.00000000e+00,\n",
       "        0.00000000e+00,  0.00000000e+00,  0.00000000e+00,  0.00000000e+00,\n",
       "        0.00000000e+00,  0.00000000e+00,  0.00000000e+00,  0.00000000e+00,\n",
       "        0.00000000e+00,  0.00000000e+00,  0.00000000e+00,  0.00000000e+00,\n",
       "        0.00000000e+00,  0.00000000e+00,  0.00000000e+00,  0.00000000e+00,\n",
       "        0.00000000e+00,  0.00000000e+00,  0.00000000e+00,  0.00000000e+00,\n",
       "        0.00000000e+00,  0.00000000e+00,  0.00000000e+00,  0.00000000e+00,\n",
       "        0.00000000e+00,  0.00000000e+00,  0.00000000e+00,  0.00000000e+00,\n",
       "        0.00000000e+00,  0.00000000e+00,  0.00000000e+00,  0.00000000e+00])"
      ]
     },
     "execution_count": 19,
     "metadata": {},
     "output_type": "execute_result"
    }
   ],
   "source": [
    "humanoid_obs[0]"
   ]
  },
  {
   "cell_type": "code",
   "execution_count": 20,
   "id": "cf611482-45e7-49f5-9fe6-378f2665986f",
   "metadata": {},
   "outputs": [
    {
     "data": {
      "text/plain": [
       "(10000, 32)"
      ]
     },
     "execution_count": 20,
     "metadata": {},
     "output_type": "execute_result"
    }
   ],
   "source": [
    "#That's it! Just predict for our entire observation set.\n",
    "mu, logvar = vae.encode(humanoid_obs)\n",
    "humanoid_z = vae.sample_z(mu, logvar).numpy()\n",
    "humanoid_z.shape"
   ]
  },
  {
   "cell_type": "code",
   "execution_count": 21,
   "id": "e3e0a85a-e3e4-477a-8f2a-bea624a053ad",
   "metadata": {},
   "outputs": [],
   "source": [
    "np.save(f'../data/processed/Humanoid-v5_10000_rollout_z.npy', humanoid_z)"
   ]
  },
  {
   "cell_type": "code",
   "execution_count": 22,
   "id": "e803dedf-6daa-47ee-ae31-395a0268b595",
   "metadata": {},
   "outputs": [
    {
     "data": {
      "text/plain": [
       "((10000, 348), (10000,), (10000, 17), (10000,), (10000, 32))"
      ]
     },
     "execution_count": 22,
     "metadata": {},
     "output_type": "execute_result"
    }
   ],
   "source": [
    "#We can use the dataset records still in memory. Note that we only need the observations for now!\n",
    "humanoid_obs.shape, humanoid_rewards.shape, humanoid_actions.shape, humanoid_done.shape, humanoid_z.shape"
   ]
  },
  {
   "cell_type": "markdown",
   "id": "b07d4e24-7e60-4ffb-b4f4-bc8a1f79bf06",
   "metadata": {},
   "source": [
    "### Core Training\n",
    "\n",
    "Now that we have our mu and logvar arrays and also episode-wise aggregations of all of our data, we can train our MDN-RNN!"
   ]
  },
  {
   "cell_type": "code",
   "execution_count": 23,
   "id": "bc327863-9607-40da-8f2c-e9d2b5339efc",
   "metadata": {},
   "outputs": [],
   "source": [
    "#CORE MODEL CLASS\n",
    "class MDNRNN(tf.keras.Model):\n",
    "    def __init__(self, latent_dim, action_dim, hidden_dim=256, num_mixtures=5):\n",
    "        super().__init__()\n",
    "        self.latent_dim = latent_dim\n",
    "        self.action_dim = action_dim\n",
    "        self.input_dim = latent_dim + action_dim\n",
    "        self.hidden_dim = hidden_dim\n",
    "        self.num_mixtures = num_mixtures\n",
    "\n",
    "        # LSTM\n",
    "        self.lstm = layers.LSTM(hidden_dim, return_sequences=True, return_state=True)\n",
    "\n",
    "        # MDN output: means, stddevs, and mixture weights for latent prediction\n",
    "        self.mdn_dense = layers.Dense(num_mixtures * (2 * latent_dim + 1))\n",
    "\n",
    "        # Predict reward (scalar)\n",
    "        self.reward_dense = layers.Dense(1)\n",
    "\n",
    "        # Predict done (binary classification)\n",
    "        self.done_dense = layers.Dense(1, activation=\"sigmoid\")\n",
    "\n",
    "    def call(self, inputs, initial_state=None, training=False):\n",
    "        \"\"\"\n",
    "        inputs: (batch, seq_len, latent_dim + action_dim)\n",
    "        \"\"\"\n",
    "        lstm_out, h, c = self.lstm(inputs, initial_state=initial_state, training=training)\n",
    "\n",
    "        mdn_out = self.mdn_dense(lstm_out)\n",
    "        reward_pred = self.reward_dense(lstm_out)\n",
    "        done_pred = self.done_dense(lstm_out)\n",
    "\n",
    "        return mdn_out, reward_pred, done_pred, [h, c]\n",
    "\n",
    "    def get_mdn_params(self, mdn_out):\n",
    "        \"\"\"Split MDN output into pi, mu, sigma.\"\"\"\n",
    "        out = tf.reshape(mdn_out, [-1, self.num_mixtures, 2 * self.latent_dim + 1])\n",
    "        pi = out[:, :, 0]\n",
    "        mu = out[:, :, 1 : 1 + self.latent_dim]\n",
    "        log_sigma = out[:, :, 1 + self.latent_dim :]\n",
    "        sigma = tf.exp(log_sigma)\n",
    "\n",
    "        pi = tf.nn.softmax(pi, axis=-1)  # mixture weights\n",
    "        return pi, mu, sigma\n"
   ]
  },
  {
   "cell_type": "code",
   "execution_count": 24,
   "id": "721e71d3-a274-41dc-85ab-6ede5164807e",
   "metadata": {},
   "outputs": [],
   "source": [
    "#LOSS IMPLEMENTATION\n",
    "import tensorflow_probability as tfp\n",
    "\n",
    "def mdn_loss(z_target, pi, mu, sigma, eps=1e-8):\n",
    "    \"\"\"\n",
    "    z_target: [batch * seq_len, latent_dim]\n",
    "    pi: [batch * seq_len, num_mixtures]\n",
    "    mu: [batch * seq_len, num_mixtures, latent_dim]\n",
    "    sigma: [batch * seq_len, num_mixtures, latent_dim]\n",
    "    \"\"\"\n",
    "    # Expand target for broadcasting: [batch, 1, latent_dim]\n",
    "    z_expanded = tf.expand_dims(z_target, axis=1)\n",
    "\n",
    "    # Create component Gaussians\n",
    "    normal_dist = tfp.distributions.Normal(loc=mu, scale=sigma)\n",
    "    log_probs = normal_dist.log_prob(z_expanded)  # shape: [batch, num_mixtures, latent_dim]\n",
    "\n",
    "    # Sum over latent_dim: total log prob of each mixture component\n",
    "    log_probs = tf.reduce_sum(log_probs, axis=-1)  # shape: [batch, num_mixtures]\n",
    "\n",
    "    # Weight by mixture coefficients\n",
    "    weighted_log_probs = log_probs + tf.math.log(pi + eps)  # log(pi * P)\n",
    "    \n",
    "    # LogSumExp over mixture components to marginalize\n",
    "    log_likelihood = tf.reduce_logsumexp(weighted_log_probs, axis=-1)  # shape: [batch]\n",
    "\n",
    "    # Negative log-likelihood\n",
    "    return -tf.reduce_mean(log_likelihood)\n",
    "\n",
    "def combined_loss(z_target, pi, mu, sigma, reward_target, reward_pred, done_target, done_pred,\n",
    "                  reward_weight=1.0, done_weight=1.0):\n",
    "    loss_mdn = mdn_loss(z_target, pi, mu, sigma)\n",
    "    loss_reward = tf.reduce_mean(tf.square(reward_target - reward_pred))\n",
    "    loss_done = tf.reduce_mean(tf.keras.losses.binary_crossentropy(done_target, done_pred))\n",
    "\n",
    "    return loss_mdn + reward_weight * loss_reward + done_weight * loss_done\n"
   ]
  },
  {
   "cell_type": "code",
   "execution_count": 25,
   "id": "fadeb8d4-2d42-406a-bd7f-72f10c866934",
   "metadata": {},
   "outputs": [],
   "source": [
    "#TRAINING FUNCTION\n",
    "def train_mdnrnn(model, dataset, epochs=10, learning_rate=1e-4, reward_weight=1.0, done_weight=1.0):\n",
    "    optimizer = tf.keras.optimizers.Adam(learning_rate)\n",
    "    \n",
    "    for epoch in range(epochs):\n",
    "        total_loss = 0.0\n",
    "        total_mdn_loss = 0.0\n",
    "        total_reward_loss = 0.0\n",
    "        total_done_loss = 0.0\n",
    "        total_batches = 0\n",
    "\n",
    "        for z_action, (z_next, reward, done) in dataset:\n",
    "            # Flatten z_action into shape (batch, seq_len, latent_dim + action_dim)\n",
    "            with tf.GradientTape() as tape:\n",
    "                # Forward pass through the model\n",
    "                mdn_out, reward_pred, done_pred, _ = model(z_action, training=True)\n",
    "                pi, mu, sigma = model.get_mdn_params(mdn_out)\n",
    "\n",
    "                # Compute MDN, reward, and done losses\n",
    "                loss_mdn = mdn_loss(tf.reshape(z_next, [-1, model.latent_dim]), pi, mu, sigma)\n",
    "                loss_reward = tf.reduce_mean(tf.square(reward - reward_pred))\n",
    "                loss_done = tf.reduce_mean(tf.keras.losses.binary_crossentropy(done, done_pred))\n",
    "\n",
    "                # Total loss\n",
    "                total_loss = loss_mdn + reward_weight * loss_reward + done_weight * loss_done\n",
    "\n",
    "            # Compute gradients and apply\n",
    "            grads = tape.gradient(total_loss, model.trainable_variables)\n",
    "            optimizer.apply_gradients(zip(grads, model.trainable_variables))\n",
    "\n",
    "            # Accumulate the loss values\n",
    "            total_loss += total_loss.numpy()\n",
    "            total_mdn_loss += loss_mdn.numpy()\n",
    "            total_reward_loss += loss_reward.numpy()\n",
    "            total_done_loss += loss_done.numpy()\n",
    "\n",
    "            total_batches += 1\n",
    "\n",
    "        # Compute and print average losses for the epoch\n",
    "        avg_loss = total_loss / total_batches\n",
    "        avg_mdn_loss = total_mdn_loss / total_batches\n",
    "        avg_reward_loss = total_reward_loss / total_batches\n",
    "        avg_done_loss = total_done_loss / total_batches\n",
    "\n",
    "        print(f\"Epoch {epoch+1}:\")\n",
    "        print(f\"  avg loss = {avg_loss:.4f}, mdn_loss = {avg_mdn_loss:.4f}, \"\n",
    "              f\"reward_loss = {avg_reward_loss:.4f}, done_loss = {avg_done_loss:.4f}\")\n"
   ]
  },
  {
   "cell_type": "code",
   "execution_count": 26,
   "id": "8bc5a999-ce29-4aac-91f2-ef685a39b200",
   "metadata": {},
   "outputs": [],
   "source": [
    "#DATA HANDLING\n",
    "def preprocess_data(observations, actions, rewards, dones, sequence_length):\n",
    "    \"\"\"\n",
    "    Yields tuples of the form:\n",
    "    z_action: (sequence_length, latent_dim + action_dim)\n",
    "    targets:  (z_next, reward, done), each of shape (sequence_length, ...)\n",
    "    \"\"\"\n",
    "    for i in range(len(observations) - sequence_length):\n",
    "        z_seq = observations[i:i+sequence_length]\n",
    "        a_seq = actions[i:i+sequence_length]\n",
    "        z_action = np.concatenate([z_seq, a_seq], axis=-1).astype(np.float32)\n",
    "\n",
    "        z_next = observations[i+1:i+sequence_length+1].astype(np.float32)\n",
    "        reward = rewards[i+1:i+sequence_length+1].astype(np.float32)\n",
    "        done = dones[i+1:i+sequence_length+1].astype(np.float32)\n",
    "\n",
    "        yield (\n",
    "            z_action.astype(np.float32),\n",
    "            (\n",
    "                z_next.astype(np.float32),\n",
    "                reward[:, None].astype(np.float32),  # <–– reshape from (T,) to (T,1)\n",
    "                done[:, None].astype(np.float32)     # <–– reshape from (T,) to (T,1)\n",
    "            )\n",
    "        )\n",
    "\n",
    "\n",
    "sequence_length = 10\n",
    "latent_dim = 32\n",
    "action_dim = 17\n",
    "batch_size = 32\n",
    "\n",
    "train_dataset = tf.data.Dataset.from_generator(\n",
    "    lambda: preprocess_data(humanoid_z, humanoid_actions, humanoid_rewards, humanoid_done, sequence_length),\n",
    "    output_signature=(\n",
    "        tf.TensorSpec(shape=(sequence_length, latent_dim + action_dim), dtype=tf.float32),\n",
    "        (\n",
    "            tf.TensorSpec(shape=(sequence_length, latent_dim), dtype=tf.float32),\n",
    "            tf.TensorSpec(shape=(sequence_length, 1), dtype=tf.float32),\n",
    "            tf.TensorSpec(shape=(sequence_length, 1), dtype=tf.float32),\n",
    "        )\n",
    "    )\n",
    ")\n",
    "\n",
    "train_dataset = train_dataset.batch(batch_size).shuffle(1000)"
   ]
  },
  {
   "cell_type": "code",
   "execution_count": 27,
   "id": "d7bc4a56-e063-481c-a146-5f5c40ebf6a3",
   "metadata": {},
   "outputs": [
    {
     "name": "stderr",
     "output_type": "stream",
     "text": [
      "2025-05-10 10:11:47.810847: I tensorflow/core/kernels/data/shuffle_dataset_op.cc:452] ShuffleDatasetV3:8: Filling up shuffle buffer (this may take a while): 241 of 1000\n",
      "2025-05-10 10:11:50.953005: I tensorflow/core/kernels/data/shuffle_dataset_op.cc:482] Shuffle buffer filled.\n"
     ]
    },
    {
     "name": "stdout",
     "output_type": "stream",
     "text": [
      "Epoch 1:\n",
      "  avg loss = 1.7256, mdn_loss = 1028.9547, reward_loss = 16.5348, done_loss = 0.5429\n"
     ]
    },
    {
     "name": "stderr",
     "output_type": "stream",
     "text": [
      "2025-05-10 10:13:31.184300: I tensorflow/core/kernels/data/shuffle_dataset_op.cc:452] ShuffleDatasetV3:8: Filling up shuffle buffer (this may take a while): 245 of 1000\n",
      "2025-05-10 10:13:33.761952: I tensorflow/core/kernels/data/shuffle_dataset_op.cc:482] Shuffle buffer filled.\n"
     ]
    },
    {
     "name": "stdout",
     "output_type": "stream",
     "text": [
      "Epoch 2:\n",
      "  avg loss = 1.1448, mdn_loss = 197.1293, reward_loss = 3.5318, done_loss = 0.2056\n"
     ]
    },
    {
     "name": "stderr",
     "output_type": "stream",
     "text": [
      "2025-05-10 10:15:09.544208: I tensorflow/core/kernels/data/shuffle_dataset_op.cc:452] ShuffleDatasetV3:8: Filling up shuffle buffer (this may take a while): 266 of 1000\n",
      "2025-05-10 10:15:11.356743: I tensorflow/core/kernels/data/shuffle_dataset_op.cc:482] Shuffle buffer filled.\n"
     ]
    },
    {
     "name": "stdout",
     "output_type": "stream",
     "text": [
      "Epoch 3:\n",
      "  avg loss = 1.1590, mdn_loss = 159.1100, reward_loss = 2.4223, done_loss = 0.1875\n"
     ]
    },
    {
     "name": "stderr",
     "output_type": "stream",
     "text": [
      "2025-05-10 10:16:52.642470: I tensorflow/core/kernels/data/shuffle_dataset_op.cc:452] ShuffleDatasetV3:8: Filling up shuffle buffer (this may take a while): 240 of 1000\n",
      "2025-05-10 10:16:56.002466: I tensorflow/core/kernels/data/shuffle_dataset_op.cc:482] Shuffle buffer filled.\n"
     ]
    },
    {
     "name": "stdout",
     "output_type": "stream",
     "text": [
      "Epoch 4:\n",
      "  avg loss = 0.9280, mdn_loss = 146.8151, reward_loss = 2.0830, done_loss = 0.1833\n"
     ]
    },
    {
     "name": "stderr",
     "output_type": "stream",
     "text": [
      "2025-05-10 10:18:37.506752: I tensorflow/core/kernels/data/shuffle_dataset_op.cc:452] ShuffleDatasetV3:8: Filling up shuffle buffer (this may take a while): 276 of 1000\n",
      "2025-05-10 10:18:38.968064: I tensorflow/core/kernels/data/shuffle_dataset_op.cc:482] Shuffle buffer filled.\n"
     ]
    },
    {
     "name": "stdout",
     "output_type": "stream",
     "text": [
      "Epoch 5:\n",
      "  avg loss = 0.8064, mdn_loss = 137.5134, reward_loss = 1.8499, done_loss = 0.1804\n"
     ]
    },
    {
     "name": "stderr",
     "output_type": "stream",
     "text": [
      "2025-05-10 10:20:23.664826: I tensorflow/core/kernels/data/shuffle_dataset_op.cc:452] ShuffleDatasetV3:8: Filling up shuffle buffer (this may take a while): 268 of 1000\n",
      "2025-05-10 10:20:25.566168: I tensorflow/core/kernels/data/shuffle_dataset_op.cc:482] Shuffle buffer filled.\n"
     ]
    },
    {
     "name": "stdout",
     "output_type": "stream",
     "text": [
      "Epoch 6:\n",
      "  avg loss = 0.8245, mdn_loss = 124.8104, reward_loss = 1.7106, done_loss = 0.1792\n"
     ]
    },
    {
     "name": "stderr",
     "output_type": "stream",
     "text": [
      "2025-05-10 10:22:00.674388: I tensorflow/core/kernels/data/shuffle_dataset_op.cc:452] ShuffleDatasetV3:8: Filling up shuffle buffer (this may take a while): 267 of 1000\n",
      "2025-05-10 10:22:02.464169: I tensorflow/core/kernels/data/shuffle_dataset_op.cc:482] Shuffle buffer filled.\n"
     ]
    },
    {
     "name": "stdout",
     "output_type": "stream",
     "text": [
      "Epoch 7:\n",
      "  avg loss = 0.6862, mdn_loss = 120.5293, reward_loss = 1.6048, done_loss = 0.1779\n"
     ]
    },
    {
     "name": "stderr",
     "output_type": "stream",
     "text": [
      "2025-05-10 10:23:37.590231: I tensorflow/core/kernels/data/shuffle_dataset_op.cc:452] ShuffleDatasetV3:8: Filling up shuffle buffer (this may take a while): 257 of 1000\n",
      "2025-05-10 10:23:39.789504: I tensorflow/core/kernels/data/shuffle_dataset_op.cc:482] Shuffle buffer filled.\n"
     ]
    },
    {
     "name": "stdout",
     "output_type": "stream",
     "text": [
      "Epoch 8:\n",
      "  avg loss = 0.7655, mdn_loss = 118.5863, reward_loss = 1.5204, done_loss = 0.1766\n"
     ]
    },
    {
     "name": "stderr",
     "output_type": "stream",
     "text": [
      "2025-05-10 10:25:09.073064: I tensorflow/core/kernels/data/shuffle_dataset_op.cc:452] ShuffleDatasetV3:8: Filling up shuffle buffer (this may take a while): 289 of 1000\n",
      "2025-05-10 10:25:09.994345: I tensorflow/core/kernels/data/shuffle_dataset_op.cc:482] Shuffle buffer filled.\n"
     ]
    },
    {
     "name": "stdout",
     "output_type": "stream",
     "text": [
      "Epoch 9:\n",
      "  avg loss = 0.6971, mdn_loss = 117.2180, reward_loss = 1.4526, done_loss = 0.1755\n"
     ]
    },
    {
     "name": "stderr",
     "output_type": "stream",
     "text": [
      "2025-05-10 10:26:32.048261: I tensorflow/core/kernels/data/shuffle_dataset_op.cc:452] ShuffleDatasetV3:8: Filling up shuffle buffer (this may take a while): 293 of 1000\n",
      "2025-05-10 10:26:32.777614: I tensorflow/core/kernels/data/shuffle_dataset_op.cc:482] Shuffle buffer filled.\n"
     ]
    },
    {
     "name": "stdout",
     "output_type": "stream",
     "text": [
      "Epoch 10:\n",
      "  avg loss = 0.7036, mdn_loss = 116.1478, reward_loss = 1.4004, done_loss = 0.1745\n"
     ]
    }
   ],
   "source": [
    "mdnrnn = MDNRNN(latent_dim=32, action_dim=17)\n",
    "train_mdnrnn(mdnrnn, train_dataset)"
   ]
  },
  {
   "cell_type": "markdown",
   "id": "56356c1c-d3e4-4d41-8f0b-fb7b11e1b9e4",
   "metadata": {},
   "source": [
    "## Training the Controller\n",
    "\n",
    "Now that we have a VAE and an MDN-RNN that are (presumably) learning, let's write the final piece of the puzzle -- the MDN-RNN!\n",
    "\n"
   ]
  },
  {
   "cell_type": "code",
   "execution_count": 56,
   "id": "769deb41-cd7c-40d2-8272-8b134a736d01",
   "metadata": {},
   "outputs": [],
   "source": [
    "import numpy as np\n",
    "import tensorflow as tf\n",
    "from tensorflow.keras import layers, Model, saving\n",
    "import gymnasium as gym\n",
    "\n",
    "# --- Controller model ---\n",
    "@saving.register_keras_serializable()\n",
    "class LinearController(Model):\n",
    "    def __init__(self, input_dim, action_dim):\n",
    "        super(LinearController, self).__init__()\n",
    "        self.linear = layers.Dense(action_dim, activation='tanh', use_bias=False)\n",
    "        self.linear(tf.zeros((1, input_dim)))  # force build so weights are initialized\n",
    "\n",
    "    def call(self, inputs):\n",
    "        return self.linear(inputs)\n",
    "\n",
    "    def get_weights_flat(self):\n",
    "        return tf.reshape(self.linear.kernel, [-1])\n",
    "\n",
    "    def set_weights_flat(self, flat_weights):\n",
    "        new_weights = tf.reshape(flat_weights, self.linear.kernel.shape)\n",
    "        self.linear.kernel.assign(new_weights)\n",
    "\n",
    "# --- Evolution strategy ---\n",
    "def evolve_controller(controller, vae, mdn_rnn, env, generations=10, pop_size=64, sigma=0.1, elite_frac=0.2):\n",
    "    input_dim = controller.linear.kernel.shape[0]\n",
    "    action_dim = controller.linear.kernel.shape[1]\n",
    "    weight_dim = input_dim * action_dim\n",
    "\n",
    "    base_weights = controller.get_weights_flat().numpy()\n",
    "    elite_num = max(1, int(pop_size * elite_frac))\n",
    "\n",
    "    for gen in range(generations):\n",
    "        population = [base_weights + sigma * np.random.randn(weight_dim) for _ in range(pop_size)]\n",
    "        scores = []\n",
    "\n",
    "        for i, individual in enumerate(population):\n",
    "            controller.set_weights_flat(individual)\n",
    "            reward = evaluate_controller(controller, vae, mdn_rnn, env)\n",
    "            scores.append((reward, individual))\n",
    "\n",
    "        scores.sort(key=lambda x: -x[0])\n",
    "        elites = [w for _, w in scores[:elite_num]]\n",
    "        new_mean = np.mean(elites, axis=0)\n",
    "        base_weights = new_mean\n",
    "\n",
    "        print(f\"Gen {gen+1}: Best score = {scores[0][0]:.2f}\")\n",
    "\n",
    "    controller.set_weights_flat(base_weights)\n",
    "    return controller"
   ]
  },
  {
   "cell_type": "code",
   "execution_count": 67,
   "id": "7cd63ed3-a963-4d87-a828-052308bc61b5",
   "metadata": {},
   "outputs": [],
   "source": [
    "def evaluate_controller(controller, vae, mdn_rnn, env, max_steps=1000):\n",
    "    total_reward = 0\n",
    "    obs, _ = env.reset()\n",
    "    done = False\n",
    "    h = tf.zeros((1, 256))  # RNN hidden state (adjust as needed)\n",
    "\n",
    "    state = [h, h]  # Initialize state for MDN-RNN (h, c)\n",
    "    for step in range(max_steps):\n",
    "        x = tf.convert_to_tensor(obs[None, :], dtype=tf.float32)\n",
    "        mu, _ = vae.encode(x)\n",
    "        z = mu  # Use the mean (mu) as the latent vector\n",
    "\n",
    "        zh = tf.concat([z, h], axis=1)  # Concatenate latent vector and hidden state\n",
    "        action = controller(zh).numpy()[0]  # Get action from controller\n",
    "\n",
    "        # Step in the environment\n",
    "        obs, reward, terminated, truncated, _ = env.step(action)\n",
    "        done = terminated or truncated\n",
    "\n",
    "        # Update hidden state using the MDN-RNN\n",
    "        rnn_input = tf.concat([z, action[None]], axis=1)  # (latent_dim + action_dim)\n",
    "        rnn_input = tf.expand_dims(rnn_input, axis=1)  # Shape becomes (1, 1, 50)\n",
    "\n",
    "        mdn_out, reward_pred, done_pred, state = mdn_rnn(rnn_input, initial_state=state)\n",
    "\n",
    "        total_reward += reward\n",
    "\n",
    "        # Optionally: You can use reward_pred and done_pred for monitoring\n",
    "\n",
    "        if done:\n",
    "            break\n",
    "\n",
    "    return total_reward"
   ]
  },
  {
   "cell_type": "code",
   "execution_count": null,
   "id": "90bf92cc-8353-48b2-b544-537e0b8034a3",
   "metadata": {},
   "outputs": [],
   "source": [
    "z_dim = 32\n",
    "h_dim = 256\n",
    "action_dim = env.action_space.shape[0]\n",
    "\n",
    "controller = LinearController(input_dim=z_dim + h_dim, action_dim=action_dim)\n",
    "\n",
    "# Assume `vae` and `mdn_rnn` are your pretrained models\n",
    "trained_controller = evolve_controller(controller, vae, mdnrnn, env)"
   ]
  },
  {
   "cell_type": "markdown",
   "id": "272fe46e-ff1b-4c45-ace7-27475f681c00",
   "metadata": {},
   "source": [
    "So right now, controller with JUST VAE is working. Also, we're missing the CMA-ES piece! We just do random search optimization right now."
   ]
  }
 ],
 "metadata": {
  "kernelspec": {
   "display_name": "cs757-final-project",
   "language": "python",
   "name": "cs757-final-project"
  },
  "language_info": {
   "codemirror_mode": {
    "name": "ipython",
    "version": 3
   },
   "file_extension": ".py",
   "mimetype": "text/x-python",
   "name": "python",
   "nbconvert_exporter": "python",
   "pygments_lexer": "ipython3",
   "version": "3.10.16"
  }
 },
 "nbformat": 4,
 "nbformat_minor": 5
}
