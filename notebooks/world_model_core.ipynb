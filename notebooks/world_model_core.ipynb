{
 "cells": [
  {
   "cell_type": "markdown",
   "id": "98bd1649-aa3f-4c0c-a7a2-e9a7d07e76c8",
   "metadata": {},
   "source": [
    "# World Model Core\n",
    "*Sean Steinle, Kiya Aminfar*\n",
    "\n",
    "This notebook walks through the core aspects of world models, developing crucial pieces of code sequentially. Not that this code isn't meant for scale -- instead, this is for a demonstration of how we developed the code that we did.\n",
    "\n",
    "## Table of Contents\n",
    "1. [Collecting Rollout Data](#Collecting-Rollout-Data)\n",
    "2. [Training the VAE](#Training-the-VAE)\n",
    "3. [Training the MDN-RNN](#Training-the-MDN-RNN)\n",
    "    - [Prepping Rollout Data for the MDN-RNN](#Prepping-Rollout-Data-for-the-MDN-RNN)\n",
    "    - [Core Training](#Core-Training)\n",
    "4. [Training the Controller](#Training-the-Controller)\n",
    "5. [Early Results](#Early-Results)"
   ]
  },
  {
   "cell_type": "code",
   "execution_count": 1,
   "id": "21544f3f-d6e2-4fda-8b1d-4e6b51e934bd",
   "metadata": {},
   "outputs": [],
   "source": [
    "import gymnasium as gym\n",
    "import matplotlib.pyplot as plt\n",
    "import os\n",
    "import numpy as np"
   ]
  },
  {
   "cell_type": "markdown",
   "id": "a7847949-423a-47be-a72d-62322c9143ee",
   "metadata": {},
   "source": [
    "## Collecting Rollout Data"
   ]
  },
  {
   "cell_type": "code",
   "execution_count": 2,
   "id": "17fe9254-55f2-4148-84fc-aa3d9452e7af",
   "metadata": {
    "scrolled": true
   },
   "outputs": [],
   "source": [
    "#Let's begin by creating an instance of our humanoid environment and checking out what basic observations look like.\n",
    "env = gym.make('Humanoid-v5', render_mode=\"rgb_array\")\n",
    "obs, info = env.reset()"
   ]
  },
  {
   "cell_type": "code",
   "execution_count": 3,
   "id": "b47c4e48-4af5-4ca9-be13-59301b800e17",
   "metadata": {
    "scrolled": true
   },
   "outputs": [
    {
     "data": {
      "text/plain": [
       "((348,),\n",
       " array([ 1.40407487e+00,  9.91028598e-01,  8.77444272e-03,  5.50217648e-03,\n",
       "        -2.10420081e-03,  4.36327484e-03, -7.30805570e-03,  2.62785484e-03,\n",
       "         5.32032757e-03, -2.13750113e-03,  6.26080991e-03,  6.60496846e-03,\n",
       "        -6.42673052e-03,  9.53574127e-03,  9.72645665e-03, -3.38799013e-03,\n",
       "         9.68417577e-03, -3.07680594e-03, -3.70274456e-03, -2.88886374e-04,\n",
       "        -3.86991517e-03, -6.53416455e-03,  8.83760276e-03, -4.37538126e-03,\n",
       "         2.81940756e-03,  9.35126923e-03,  6.74244336e-03, -9.92979233e-03,\n",
       "        -5.56664951e-03, -5.03968813e-04,  4.81224281e-03, -5.05962554e-03,\n",
       "         4.29472192e-03,  5.12513196e-03, -5.20837592e-03,  4.54432324e-03,\n",
       "        -3.58355926e-03, -8.42856154e-03, -9.10236022e-03,  8.31343887e-05,\n",
       "         4.87503444e-03, -7.41129833e-05,  3.06770526e-03, -9.35102372e-03,\n",
       "        -2.69693217e-03,  2.30539831e+00,  2.28693358e+00,  4.38522522e-02,\n",
       "        -1.21215543e-03,  5.27647113e-02,  4.69547496e-02, -1.18002608e-01,\n",
       "        -9.18722374e-02,  4.35721564e+00,  8.90746237e+00,  9.56111256e-02,\n",
       "         9.06963289e-02,  1.11574458e-02, -2.68717837e-04,  1.03436438e-02,\n",
       "         2.11919956e-03, -5.31402686e-02, -1.14430278e-02,  4.40283178e-01,\n",
       "         2.26194671e+00,  5.81356482e-02,  4.26206252e-02,  6.48220129e-02,\n",
       "        -5.37461146e-04,  8.50807235e-03, -2.02718142e-04, -2.87493102e-01,\n",
       "        -1.23881228e-02,  1.95799291e-01,  6.61619413e+00,  2.72565056e-01,\n",
       "         2.35076076e-01,  5.10158814e-02, -1.02792596e-02, -2.05695688e-02,\n",
       "        -7.56864603e-02, -1.12203692e-01, -4.35624042e-01, -8.65587993e-01,\n",
       "         4.75175093e+00,  9.28273285e-01,  9.13470470e-01,  2.09739420e-02,\n",
       "        -4.92772319e-03, -3.60630923e-02, -1.18875192e-01, -6.40779651e-02,\n",
       "        -2.11769640e-01, -1.55670700e+00,  2.75569617e+00,  1.04680275e+00,\n",
       "         1.03859553e+00,  1.39464899e-02, -2.83066008e-03, -3.01883380e-02,\n",
       "        -9.69301615e-02, -3.94702787e-02, -1.26733061e-01, -1.35157892e+00,\n",
       "         1.76714587e+00,  2.72184983e-01,  2.28894109e-01,  5.71187784e-02,\n",
       "         1.13552005e-02, -2.09490170e-02,  8.32952107e-02, -1.15306141e-01,\n",
       "         4.67986571e-01, -8.47468432e-01,  4.75175093e+00,  9.30595844e-01,\n",
       "         9.02904069e-01,  3.49010023e-02,  7.72573447e-03, -4.20101849e-02,\n",
       "         1.61326028e-01, -7.43751003e-02,  2.85988709e-01, -1.54686730e+00,\n",
       "         2.75569617e+00,  1.04910809e+00,  1.02951351e+00,  2.64947843e-02,\n",
       "         5.54853153e-03, -3.86945217e-02,  1.46845450e-01, -5.08299547e-02,\n",
       "         1.92899337e-01, -1.34524740e+00,  1.76714587e+00,  4.26906909e-01,\n",
       "         3.23157139e-01,  1.29413708e-01,  3.35704300e-02, -4.28294659e-02,\n",
       "         1.79096881e-01,  1.11680773e-01, -4.29963660e-01,  7.11063913e-01,\n",
       "         1.66108048e+00,  3.17694521e-01,  3.35934065e-01,  1.80995948e-01,\n",
       "         8.10810766e-02, -1.52610593e-01,  1.29293057e-01,  3.41300354e-01,\n",
       "        -3.07657186e-01,  5.33644831e-01,  1.22954019e+00,  4.25692902e-01,\n",
       "         3.38073986e-01,  1.14999945e-01, -3.29068619e-02, -4.62783163e-02,\n",
       "        -1.69825912e-01,  1.16616831e-01,  3.98689673e-01,  7.27880376e-01,\n",
       "         1.66108048e+00,  3.17711177e-01,  3.49976870e-01,  1.71181992e-01,\n",
       "        -7.46840744e-02, -1.58036598e-01, -1.21239346e-01,  3.45301152e-01,\n",
       "         2.81886687e-01,  5.47569814e-01,  1.22954019e+00,  9.27002552e-03,\n",
       "         6.87858757e-03, -9.91257859e-03,  5.80766489e-03, -2.72277573e-04,\n",
       "         2.83312313e-03,  9.23070482e-03,  6.47329753e-03, -1.54871427e-02,\n",
       "         5.94751309e-03, -4.13538748e-04,  2.84240688e-03,  1.40429043e-02,\n",
       "         6.47302651e-03, -1.54667276e-02,  5.94746846e-03,  2.10885039e-04,\n",
       "         2.86121733e-03,  8.97579003e-03,  1.14865438e-02, -1.10633692e-02,\n",
       "         5.56445659e-03,  3.75958824e-04,  2.23252330e-03,  8.98664910e-03,\n",
       "         1.66931923e-02, -1.09296786e-02,  7.61003270e-03,  3.74882827e-04,\n",
       "         2.10827574e-03,  8.98664910e-03,  1.66931923e-02, -1.09296786e-02,\n",
       "         7.61003270e-03,  3.74882827e-04,  2.10827574e-03,  9.40353127e-03,\n",
       "        -2.04778726e-03, -1.21296874e-02,  6.20702677e-03,  3.26999900e-04,\n",
       "         3.51856059e-03,  9.48980585e-03,  7.05089338e-03, -1.18857020e-02,\n",
       "         9.79248022e-03,  2.99448899e-04,  3.27815377e-03,  9.48980585e-03,\n",
       "         7.05089338e-03, -1.18857020e-02,  9.79248022e-03,  2.99448899e-04,\n",
       "         3.27815377e-03,  9.38842404e-03,  3.37720628e-03, -6.52153407e-03,\n",
       "         6.98557277e-03, -1.73854826e-04,  2.89362160e-03,  9.38766389e-03,\n",
       "         3.43093868e-03, -6.57257313e-03,  6.98636619e-03, -1.65667586e-04,\n",
       "         2.90222907e-03,  1.16795976e-02, -9.01610414e-04, -1.54366117e-02,\n",
       "         8.95430158e-03,  9.21088589e-04,  2.52491042e-03,  1.17094304e-02,\n",
       "         9.71738111e-04, -1.34967359e-02,  8.98063073e-03,  6.01282357e-04,\n",
       "         2.83334410e-03,  0.00000000e+00,  0.00000000e+00,  0.00000000e+00,\n",
       "         0.00000000e+00,  0.00000000e+00,  0.00000000e+00,  0.00000000e+00,\n",
       "         0.00000000e+00,  0.00000000e+00,  0.00000000e+00,  0.00000000e+00,\n",
       "         0.00000000e+00,  0.00000000e+00,  0.00000000e+00,  0.00000000e+00,\n",
       "         0.00000000e+00,  0.00000000e+00,  0.00000000e+00,  0.00000000e+00,\n",
       "         0.00000000e+00,  0.00000000e+00,  0.00000000e+00,  0.00000000e+00,\n",
       "         0.00000000e+00,  0.00000000e+00,  0.00000000e+00,  0.00000000e+00,\n",
       "         0.00000000e+00,  0.00000000e+00,  0.00000000e+00,  0.00000000e+00,\n",
       "         0.00000000e+00,  0.00000000e+00,  0.00000000e+00,  0.00000000e+00,\n",
       "         0.00000000e+00,  0.00000000e+00,  0.00000000e+00,  0.00000000e+00,\n",
       "         0.00000000e+00,  0.00000000e+00,  0.00000000e+00,  0.00000000e+00,\n",
       "         0.00000000e+00,  0.00000000e+00,  0.00000000e+00,  0.00000000e+00,\n",
       "         0.00000000e+00,  0.00000000e+00,  0.00000000e+00,  0.00000000e+00,\n",
       "         0.00000000e+00,  0.00000000e+00,  0.00000000e+00,  0.00000000e+00,\n",
       "         0.00000000e+00,  0.00000000e+00,  0.00000000e+00,  0.00000000e+00,\n",
       "         0.00000000e+00,  0.00000000e+00,  0.00000000e+00,  0.00000000e+00,\n",
       "         0.00000000e+00,  0.00000000e+00,  0.00000000e+00,  0.00000000e+00,\n",
       "         0.00000000e+00,  0.00000000e+00,  0.00000000e+00,  0.00000000e+00,\n",
       "         0.00000000e+00,  0.00000000e+00,  0.00000000e+00,  0.00000000e+00,\n",
       "         0.00000000e+00,  0.00000000e+00,  0.00000000e+00,  0.00000000e+00,\n",
       "         0.00000000e+00,  0.00000000e+00,  0.00000000e+00,  0.00000000e+00,\n",
       "         0.00000000e+00,  0.00000000e+00,  0.00000000e+00,  0.00000000e+00,\n",
       "         0.00000000e+00,  0.00000000e+00,  0.00000000e+00,  0.00000000e+00,\n",
       "         0.00000000e+00,  0.00000000e+00,  0.00000000e+00,  0.00000000e+00]))"
      ]
     },
     "execution_count": 3,
     "metadata": {},
     "output_type": "execute_result"
    }
   ],
   "source": [
    "obs.shape, obs"
   ]
  },
  {
   "cell_type": "code",
   "execution_count": 4,
   "id": "2035ecfe-44e4-4ab0-b4bb-7213f9d50c5b",
   "metadata": {},
   "outputs": [
    {
     "data": {
      "text/plain": [
       "{'x_position': np.float64(0.001754087386925571),\n",
       " 'y_position': np.float64(-0.0008231982206286306),\n",
       " 'tendon_length': array([-0.01311445,  0.00034416]),\n",
       " 'tendon_velocity': array([-0.0006738 , -0.01033351]),\n",
       " 'distance_from_origin': np.float64(0.0019376475095892755)}"
      ]
     },
     "execution_count": 4,
     "metadata": {},
     "output_type": "execute_result"
    }
   ],
   "source": [
    "info"
   ]
  },
  {
   "cell_type": "markdown",
   "id": "2de32bf7-40c6-40e3-bbd3-b1131e598b18",
   "metadata": {},
   "source": [
    "As we can see, the humanoid environment gives us a TON of observations! We get dozens of variables representing various positions and velocities of body parts, the center of mass, and a lot of other variables I hardly understand. For an exhaustive list, see the [doc](https://gymnasium.farama.org/environments/mujoco/humanoid/#observation-space). The fact that there are so many variables here is what makes learning latent observations so obvious!\n",
    "\n",
    "We also get some nice summary stats in info, but we aren't going to include them in our scrape."
   ]
  },
  {
   "cell_type": "code",
   "execution_count": 20,
   "id": "00bc4518-6772-473b-8b89-5984a755ac24",
   "metadata": {},
   "outputs": [],
   "source": [
    "def collect_rollout_data(env_name: str, out_dir: str, n_timesteps: int=10000, print_n_episodes: int=1000):\n",
    "    \"\"\"Simulates `n_timesteps` in the `env_name` environment, saving observations, rewards, and actions to a triplet of .npy files at `out_dir`.\"\"\"\n",
    "    env = gym.make(env_name, render_mode='rgb_array')\n",
    "    obs, info = env.reset()\n",
    "    observations, rewards, actions = [], [] , []\n",
    "    episode_count = 0\n",
    "\n",
    "    for timestep in range(n_timesteps):  # Run for n_timesteps or until the episode ends\n",
    "        action = env.action_space.sample() #select random action\n",
    "        obs, reward, terminated, truncated, info = env.step(action) #execute and get results\n",
    "        observations.append(obs) #save observation\n",
    "        rewards.append(reward) #save reward\n",
    "        actions.append(action) #save action\n",
    "        if terminated or truncated: #check for game over, if so reset env\n",
    "            episode_count+=1\n",
    "            if episode_count % print_n_episodes == 0: print(f\"finished {episode_count} episodes\") #provide update on training\n",
    "            observation, info = env.reset()\n",
    "        env.close()\n",
    "    np_obs, np_rewards, np_actions = np.array(observations), np.array(rewards), np.array(actions)\n",
    "    print(f\"observations has shape: {np_obs.shape}\\trewards has shape: {np_rewards.shape}\\tactions has shape: {np_actions.shape}\")\n",
    "    np.save(f'{out_dir}/{env_name}_{n_timesteps}_rollout_observations.npy', np_obs) #load with: new_obs = np.load(\"../data/processed/Humanoid-v5_10000_rollout_observations.npy\")\n",
    "    np.save(f'{out_dir}/{env_name}_{n_timesteps}_rollout_rewards.npy', np_rewards)\n",
    "    np.save(f'{out_dir}/{env_name}_{n_timesteps}_rollout_actions.npy', np_actions)\n",
    "    return np_obs, np_rewards, np_actions"
   ]
  },
  {
   "cell_type": "code",
   "execution_count": 22,
   "id": "c936e8b4-1012-48af-9f9d-a1c0fb0da2ed",
   "metadata": {
    "scrolled": true
   },
   "outputs": [
    {
     "name": "stdout",
     "output_type": "stream",
     "text": [
      "finished 100 episodes\n",
      "finished 200 episodes\n",
      "finished 300 episodes\n",
      "finished 400 episodes\n",
      "observations has shape: (10000, 348)\trewards has shape: (10000,)\tactions has shape: (10000, 17)\n"
     ]
    }
   ],
   "source": [
    "humanoid_obs, humanoid_rewards, humanoid_actions = collect_rollout_data('Humanoid-v5', \"../data/processed\", 10000, 100)"
   ]
  },
  {
   "cell_type": "code",
   "execution_count": 23,
   "id": "8bea542a-9109-4bd2-b80f-8e4775dde9a0",
   "metadata": {},
   "outputs": [
    {
     "data": {
      "text/plain": [
       "array([4.89014007, 4.92889786, 4.94746227, ..., 4.52836352, 4.57897921,\n",
       "       4.56725108])"
      ]
     },
     "execution_count": 23,
     "metadata": {},
     "output_type": "execute_result"
    }
   ],
   "source": [
    "humanoid_rewards"
   ]
  },
  {
   "cell_type": "code",
   "execution_count": 24,
   "id": "26d613d5-e3a6-43f6-abf0-c3cfe81bd712",
   "metadata": {},
   "outputs": [
    {
     "data": {
      "text/plain": [
       "array([[-0.1344295 , -0.33341795,  0.2567148 , ..., -0.26523423,\n",
       "        -0.22723526, -0.34251404],\n",
       "       [-0.2680746 , -0.05566841, -0.06947935, ..., -0.19162744,\n",
       "        -0.23866333,  0.33647585],\n",
       "       [-0.1664092 ,  0.0057418 , -0.32716182, ...,  0.06560624,\n",
       "         0.14931448,  0.23692013],\n",
       "       ...,\n",
       "       [-0.3987542 ,  0.35181522,  0.2205222 , ..., -0.27054495,\n",
       "         0.26330063, -0.19415343],\n",
       "       [-0.26650003, -0.35020053, -0.03938405, ..., -0.18459655,\n",
       "         0.04306056,  0.2507781 ],\n",
       "       [-0.25835124,  0.19055103, -0.2883535 , ...,  0.04691168,\n",
       "        -0.00619155, -0.23913088]], dtype=float32)"
      ]
     },
     "execution_count": 24,
     "metadata": {},
     "output_type": "execute_result"
    }
   ],
   "source": [
    "humanoid_actions"
   ]
  },
  {
   "cell_type": "markdown",
   "id": "60900362-cf6f-4514-9708-4fad349d3e9f",
   "metadata": {},
   "source": [
    "## Training the VAE\n",
    "\n",
    "Now that we have an easy function for gathering experiences in the environment, we need to train the VAE module of our world model which will compress the observation space into latent space with fewer dimensions.\n",
    "\n",
    "Note that the original World Model implementation worked with tensorflow 1.18.0. This is incredibly outdated (worked with Python 3.5), so let's get a newer version (tensorflow 2.19.0). Additionally, we need to change the structure of the VAE from working with images to working with a vector of observation data! Luckily, ChatGPT is very good at updating code (or it will be very obvious if it is not!)."
   ]
  },
  {
   "cell_type": "code",
   "execution_count": 7,
   "id": "e1389404-530a-43a4-862c-0403f544239a",
   "metadata": {},
   "outputs": [
    {
     "name": "stderr",
     "output_type": "stream",
     "text": [
      "2025-05-07 12:59:12.890722: I tensorflow/core/util/port.cc:153] oneDNN custom operations are on. You may see slightly different numerical results due to floating-point round-off errors from different computation orders. To turn them off, set the environment variable `TF_ENABLE_ONEDNN_OPTS=0`.\n",
      "2025-05-07 12:59:12.911558: E external/local_xla/xla/stream_executor/cuda/cuda_fft.cc:467] Unable to register cuFFT factory: Attempting to register factory for plugin cuFFT when one has already been registered\n",
      "WARNING: All log messages before absl::InitializeLog() is called are written to STDERR\n",
      "E0000 00:00:1746637152.932483   18052 cuda_dnn.cc:8579] Unable to register cuDNN factory: Attempting to register factory for plugin cuDNN when one has already been registered\n",
      "E0000 00:00:1746637152.939156   18052 cuda_blas.cc:1407] Unable to register cuBLAS factory: Attempting to register factory for plugin cuBLAS when one has already been registered\n",
      "W0000 00:00:1746637152.953001   18052 computation_placer.cc:177] computation placer already registered. Please check linkage and avoid linking the same target more than once.\n",
      "W0000 00:00:1746637152.953028   18052 computation_placer.cc:177] computation placer already registered. Please check linkage and avoid linking the same target more than once.\n",
      "W0000 00:00:1746637152.953030   18052 computation_placer.cc:177] computation placer already registered. Please check linkage and avoid linking the same target more than once.\n",
      "W0000 00:00:1746637152.953032   18052 computation_placer.cc:177] computation placer already registered. Please check linkage and avoid linking the same target more than once.\n",
      "2025-05-07 12:59:12.959166: I tensorflow/core/platform/cpu_feature_guard.cc:210] This TensorFlow binary is optimized to use available CPU instructions in performance-critical operations.\n",
      "To enable the following instructions: AVX2 AVX512F AVX512_VNNI FMA, in other operations, rebuild TensorFlow with the appropriate compiler flags.\n"
     ]
    }
   ],
   "source": [
    "import tensorflow as tf\n",
    "from tensorflow.keras import layers, Model, saving\n",
    "\n",
    "@saving.register_keras_serializable()\n",
    "class MLPVAE(Model):\n",
    "    def __init__(self, input_dim=348, z_size=32, kl_tolerance=0.5):\n",
    "        super(MLPVAE, self).__init__()\n",
    "        self.z_size = z_size\n",
    "        self.kl_tolerance = kl_tolerance\n",
    "\n",
    "        # Encoder\n",
    "        self.encoder = tf.keras.Sequential([\n",
    "            layers.InputLayer(input_shape=(input_dim,)),\n",
    "            layers.Dense(256, activation='relu'),\n",
    "            layers.Dense(128, activation='relu'),\n",
    "            layers.Dense(2 * z_size),  # output both mu and logvar\n",
    "        ])\n",
    "\n",
    "        # Decoder\n",
    "        self.decoder = tf.keras.Sequential([\n",
    "            layers.InputLayer(input_shape=(z_size,)),\n",
    "            layers.Dense(128, activation='relu'),\n",
    "            layers.Dense(256, activation='relu'),\n",
    "            layers.Dense(input_dim, activation='linear'),  # output same shape as input\n",
    "        ])\n",
    "\n",
    "    def sample_z(self, mu, logvar):\n",
    "        eps = tf.random.normal(shape=tf.shape(mu))\n",
    "        sigma = tf.exp(0.5 * logvar)\n",
    "        return mu + sigma * eps\n",
    "\n",
    "    def encode(self, x):\n",
    "        h = self.encoder(x)\n",
    "        mu, logvar = tf.split(h, num_or_size_splits=2, axis=1)\n",
    "        logvar = tf.clip_by_value(logvar, -10.0, 10.0)  # helps with exploding values\n",
    "        return mu, logvar\n",
    "\n",
    "    def decode(self, z):\n",
    "        return self.decoder(z)\n",
    "\n",
    "    def call(self, x):\n",
    "        mu, logvar = self.encode(x)\n",
    "        z = self.sample_z(mu, logvar)\n",
    "        x_recon = self.decode(z)\n",
    "        return x_recon, mu, logvar\n",
    "\n",
    "    def compute_loss(self, x):\n",
    "        x_recon, mu, logvar = self(x)\n",
    "        recon_loss = tf.reduce_mean(tf.reduce_sum(tf.square(x - x_recon), axis=1))\n",
    "        kl_loss = -0.5 * tf.reduce_sum(1 + logvar - tf.square(mu) - tf.exp(logvar), axis=1)\n",
    "        kl_loss = tf.maximum(kl_loss, self.kl_tolerance * self.z_size)\n",
    "        kl_loss = tf.reduce_mean(kl_loss)\n",
    "        total_loss = recon_loss + kl_loss\n",
    "        return total_loss, recon_loss, kl_loss"
   ]
  },
  {
   "cell_type": "markdown",
   "id": "5d97e9ff-74f4-4a65-b397-11e381a66fb6",
   "metadata": {},
   "source": [
    "Let's also write a training function for convenience."
   ]
  },
  {
   "cell_type": "code",
   "execution_count": 8,
   "id": "7ac2fe07-2e6d-4246-a75a-348182aac96a",
   "metadata": {},
   "outputs": [],
   "source": [
    "def create_dataset(x_train, batch_size=64, shuffle_buffer=10000):\n",
    "    # Assuming x_train is a NumPy array of shape [n_samples, 348]\n",
    "    dataset = tf.data.Dataset.from_tensor_slices(x_train.astype(np.float32))\n",
    "    dataset = dataset.shuffle(shuffle_buffer).batch(batch_size).prefetch(tf.data.AUTOTUNE)\n",
    "    return dataset\n",
    "\n",
    "def train_vae(model, dataset, epochs=10, learning_rate=1e-4):\n",
    "    optimizer = tf.keras.optimizers.Adam(learning_rate)\n",
    "\n",
    "    for epoch in range(epochs):\n",
    "        total_loss = 0.0\n",
    "        total_batches = 0\n",
    "        for x_batch in dataset:\n",
    "            with tf.GradientTape() as tape:\n",
    "                loss, recon_loss, kl_loss = model.compute_loss(x_batch)\n",
    "            grads = tape.gradient(loss, model.trainable_variables)\n",
    "            optimizer.apply_gradients(zip(grads, model.trainable_variables))\n",
    "\n",
    "            total_loss += loss.numpy()\n",
    "            total_batches += 1\n",
    "\n",
    "        avg_loss = total_loss / total_batches\n",
    "        print(f\"Epoch {epoch+1}: avg loss = {avg_loss:.4f}\")\n"
   ]
  },
  {
   "cell_type": "code",
   "execution_count": 9,
   "id": "0227816c-8f87-4374-860d-49162c0256d0",
   "metadata": {},
   "outputs": [
    {
     "name": "stderr",
     "output_type": "stream",
     "text": [
      "2025-05-07 12:59:18.962595: E external/local_xla/xla/stream_executor/cuda/cuda_platform.cc:51] failed call to cuInit: INTERNAL: CUDA error: Failed call to cuInit: UNKNOWN ERROR (303)\n",
      "/home/seansteinle/.pyenv/versions/cs757-final-project/lib/python3.10/site-packages/keras/src/layers/core/input_layer.py:27: UserWarning: Argument `input_shape` is deprecated. Use `shape` instead.\n",
      "  warnings.warn(\n",
      "2025-05-07 12:59:39.739753: I tensorflow/core/framework/local_rendezvous.cc:407] Local rendezvous is aborting with status: OUT_OF_RANGE: End of sequence\n"
     ]
    },
    {
     "name": "stdout",
     "output_type": "stream",
     "text": [
      "Epoch 1: avg loss = 300894.9688\n"
     ]
    },
    {
     "name": "stderr",
     "output_type": "stream",
     "text": [
      "2025-05-07 13:00:10.633088: I tensorflow/core/framework/local_rendezvous.cc:407] Local rendezvous is aborting with status: OUT_OF_RANGE: End of sequence\n"
     ]
    },
    {
     "name": "stdout",
     "output_type": "stream",
     "text": [
      "Epoch 2: avg loss = 142766.4375\n",
      "Epoch 3: avg loss = 67727.7812\n"
     ]
    },
    {
     "name": "stderr",
     "output_type": "stream",
     "text": [
      "2025-05-07 13:00:54.702790: I tensorflow/core/framework/local_rendezvous.cc:407] Local rendezvous is aborting with status: OUT_OF_RANGE: End of sequence\n"
     ]
    },
    {
     "name": "stdout",
     "output_type": "stream",
     "text": [
      "Epoch 4: avg loss = 56640.4141\n",
      "Epoch 5: avg loss = 51510.5586\n",
      "Epoch 6: avg loss = 46468.8984\n",
      "Epoch 7: avg loss = 41013.7070\n"
     ]
    },
    {
     "name": "stderr",
     "output_type": "stream",
     "text": [
      "2025-05-07 13:02:34.166434: I tensorflow/core/framework/local_rendezvous.cc:407] Local rendezvous is aborting with status: OUT_OF_RANGE: End of sequence\n"
     ]
    },
    {
     "name": "stdout",
     "output_type": "stream",
     "text": [
      "Epoch 8: avg loss = 35455.9766\n",
      "Epoch 9: avg loss = 30666.1250\n",
      "Epoch 10: avg loss = 26413.6094\n",
      "Epoch 11: avg loss = 23376.8887\n",
      "Epoch 12: avg loss = 21192.2285\n",
      "Epoch 13: avg loss = 19393.9473\n",
      "Epoch 14: avg loss = 17780.1152\n",
      "Epoch 15: avg loss = 16335.0908\n"
     ]
    },
    {
     "name": "stderr",
     "output_type": "stream",
     "text": [
      "2025-05-07 13:04:56.819597: I tensorflow/core/framework/local_rendezvous.cc:407] Local rendezvous is aborting with status: OUT_OF_RANGE: End of sequence\n"
     ]
    },
    {
     "name": "stdout",
     "output_type": "stream",
     "text": [
      "Epoch 16: avg loss = 14862.1846\n",
      "Epoch 17: avg loss = 13538.6533\n",
      "Epoch 18: avg loss = 12628.1885\n",
      "Epoch 19: avg loss = 11968.4492\n",
      "Epoch 20: avg loss = 11390.0234\n"
     ]
    }
   ],
   "source": [
    "# x_train should be a NumPy array of shape (n_samples, 348)\n",
    "x_train = humanoid_obs\n",
    "x_train = (x_train - np.mean(x_train, axis=0)) / (np.std(x_train, axis=0) + 1e-6)\n",
    "\n",
    "dataset = create_dataset(humanoid_obs, batch_size=64)\n",
    "vae = MLPVAE(input_dim=348, z_size=32)\n",
    "train_vae(vae, dataset, epochs=20)"
   ]
  },
  {
   "cell_type": "markdown",
   "id": "47f4012c-cd27-45fd-bbc7-82e4a1be44cd",
   "metadata": {},
   "source": [
    "Loss is going down! At first I got a tons of NAN values, but it's because I wasn't normalizing the input data and I also needed to clip the logvar values we were getting as a result of the encoding process. If you get NANs again, a lower learning rate could help too. Onto saving the model!"
   ]
  },
  {
   "cell_type": "code",
   "execution_count": 10,
   "id": "c1ae0e21-af4e-4a66-b0a0-8be8d82d5a0d",
   "metadata": {},
   "outputs": [],
   "source": [
    "vae.save_weights('../models/vae/humanoid_10000_vae_model.weights.h5') #save ONLY weights -- much simpler than serializing the entire object"
   ]
  },
  {
   "cell_type": "code",
   "execution_count": 11,
   "id": "8abe6c45-c5ae-4854-989f-fa2695cbf459",
   "metadata": {
    "scrolled": true
   },
   "outputs": [],
   "source": [
    "new_vae = MLPVAE(input_dim=348, z_size=32) #instantiate new model object \n",
    "new_vae(tf.zeros((1, 348))) #invoke it to build its shape \n",
    "new_vae.load_weights('../models/vae/humanoid_10000_vae_model.weights.h5') #now load weights into empty vector"
   ]
  },
  {
   "cell_type": "code",
   "execution_count": 12,
   "id": "4d3e5358-9331-49b2-87c9-bba5693775d5",
   "metadata": {},
   "outputs": [
    {
     "data": {
      "text/plain": [
       "<MLPVAE name=mlpvae_1, built=True>"
      ]
     },
     "execution_count": 12,
     "metadata": {},
     "output_type": "execute_result"
    }
   ],
   "source": [
    "new_vae"
   ]
  },
  {
   "cell_type": "code",
   "execution_count": 13,
   "id": "474e51af-98f1-4306-8971-c5d3c8edceb2",
   "metadata": {},
   "outputs": [
    {
     "data": {
      "text/plain": [
       "<MLPVAE name=mlpvae, built=True>"
      ]
     },
     "execution_count": 13,
     "metadata": {},
     "output_type": "execute_result"
    }
   ],
   "source": [
    "vae"
   ]
  },
  {
   "cell_type": "markdown",
   "id": "751d1e06-9bb3-4ffd-bcdd-1e77bc6db66c",
   "metadata": {},
   "source": [
    "## Training the MDN-RNN\n",
    "\n",
    "Now that we have a model which captures observations, we're theoretically ~1/3 done with the project! I say theoretically because this was probably the easiest part of the project. Now onto the meat of world models: capturing the transitions of our environment and training the MDN-RNN!"
   ]
  },
  {
   "cell_type": "markdown",
   "id": "3dc9e9b5-64c8-4c11-8d0a-5ca8cdefa295",
   "metadata": {},
   "source": [
    "### Prepping Rollout Data for the MDN-RNN\n",
    "\n",
    "To train the MDN-RNN, we first need to enhance our basic rollout dataset with predictions of `mu` and `logvar` for each experience. Then we'll feed this information to the MDN-RNN."
   ]
  },
  {
   "cell_type": "code",
   "execution_count": 30,
   "id": "960d5f8f-30a5-45e5-b013-48de1be22c16",
   "metadata": {},
   "outputs": [
    {
     "data": {
      "text/plain": [
       "((10000, 348), (10000,), (10000, 17))"
      ]
     },
     "execution_count": 30,
     "metadata": {},
     "output_type": "execute_result"
    }
   ],
   "source": [
    "#We can use the dataset records still in memory. Note that we only need the observations for now!\n",
    "humanoid_obs.shape, humanoid_rewards.shape, humanoid_actions.shape"
   ]
  },
  {
   "cell_type": "code",
   "execution_count": 32,
   "id": "51554a1a-a2db-4db8-8442-2a18e2b27427",
   "metadata": {},
   "outputs": [
    {
     "data": {
      "text/plain": [
       "<MLPVAE name=mlpvae, built=True>"
      ]
     },
     "execution_count": 32,
     "metadata": {},
     "output_type": "execute_result"
    }
   ],
   "source": [
    "#We can also use the VAE still in memory!\n",
    "vae"
   ]
  },
  {
   "cell_type": "code",
   "execution_count": 39,
   "id": "0e69fb5c-cda7-4adb-ab82-c2e902e7a80d",
   "metadata": {
    "scrolled": true
   },
   "outputs": [
    {
     "data": {
      "text/plain": [
       "array([ 1.40143877e+00,  9.99960057e-01,  2.13178531e-03,  1.76368766e-03,\n",
       "        8.49880557e-03, -5.03831888e-02,  1.99407773e-02,  1.06239878e-03,\n",
       "       -3.86322047e-03, -7.36627872e-03, -1.12246644e-01, -1.69467332e-01,\n",
       "       -4.09778076e-03,  7.37100435e-02, -4.60652693e-02, -7.12577640e-02,\n",
       "       -2.35541353e-02, -2.76335521e-02,  1.99025827e-02, -1.73195788e-02,\n",
       "       -2.97512321e-02, -3.05629178e-02, -4.52620978e-02,  4.35240471e-02,\n",
       "       -2.65623041e-01, -4.93006524e-01,  9.99974414e-01,  1.97973186e+00,\n",
       "       -6.20208208e+00,  3.82205018e-01,  1.21927149e+00, -4.56408217e-01,\n",
       "       -8.82785313e-01, -1.14253583e+01, -2.06736930e+01,  1.39722530e-01,\n",
       "        6.13995974e+00, -4.24498038e+00, -7.70727524e+00, -2.25350381e+00,\n",
       "       -1.46339718e+00,  1.93039896e+00, -6.63493524e-01, -3.99338732e+00,\n",
       "       -3.35115979e+00,  2.29871023e+00,  2.28197984e+00,  4.36726832e-02,\n",
       "        7.15717279e-05,  6.74920052e-02,  8.43825106e-03, -1.46284824e-01,\n",
       "       -1.64198951e-02,  4.35124984e+00,  8.90746237e+00,  9.48686099e-02,\n",
       "        9.03298734e-02,  1.14098353e-02, -2.43800508e-04,  1.15005061e-02,\n",
       "        2.71337458e-04, -5.93235880e-02, -1.53542037e-03,  4.38535850e-01,\n",
       "        2.26194671e+00,  5.79418788e-02,  4.61626292e-02,  6.84816803e-02,\n",
       "       -6.34362243e-04,  9.54956280e-03, -3.28003594e-04, -3.26972417e-01,\n",
       "        6.05210632e-03,  1.93334791e-01,  6.61619413e+00,  2.72477790e-01,\n",
       "        2.31620832e-01,  5.30369615e-02, -7.75245406e-03, -7.96902059e-03,\n",
       "       -7.97511406e-02, -7.98586789e-02, -4.50892758e-01, -8.59246258e-01,\n",
       "        4.75175093e+00,  9.26163123e-01,  9.04345482e-01,  2.57096535e-02,\n",
       "       -2.07444188e-03, -1.51964940e-02, -1.38870346e-01, -2.32324886e-02,\n",
       "       -2.47161223e-01, -1.54974365e+00,  2.75569617e+00,  1.04359080e+00,\n",
       "        1.03058109e+00,  1.88484754e-02, -3.60332189e-03, -3.09072159e-02,\n",
       "       -1.19578302e-01, -4.05687364e-02, -1.56958188e-01, -1.34629677e+00,\n",
       "        1.76714587e+00,  2.73808372e-01,  2.32050449e-01,  5.47146970e-02,\n",
       "        1.01460847e-02, -1.71116760e-02,  8.10031072e-02, -1.04881453e-01,\n",
       "        4.57683761e-01, -8.57717541e-01,  4.75175093e+00,  9.31592519e-01,\n",
       "        9.08439563e-01,  2.93491103e-02,  6.00449890e-03, -3.68571003e-02,\n",
       "        1.47187606e-01, -6.33260824e-02,  2.60637045e-01, -1.55226559e+00,\n",
       "        2.75569617e+00,  1.04972918e+00,  1.03476611e+00,  2.23465377e-02,\n",
       "        5.32870731e-03, -4.18718507e-02,  1.30963877e-01, -5.48696829e-02,\n",
       "        1.71617597e-01, -1.34853464e+00,  1.76714587e+00,  4.30294526e-01,\n",
       "        3.30045401e-01,  1.25722230e-01,  3.31686548e-02, -4.35125081e-02,\n",
       "        1.77836939e-01,  1.11366212e-01, -4.21985974e-01,  7.19685519e-01,\n",
       "        1.66108048e+00,  3.23032714e-01,  3.41066271e-01,  1.75606041e-01,\n",
       "        7.81731397e-02, -1.52927078e-01,  1.28810557e-01,  3.36665671e-01,\n",
       "       -3.01599542e-01,  5.42893138e-01,  1.22954019e+00,  4.25437670e-01,\n",
       "        3.32041671e-01,  1.18905661e-01, -3.14925627e-02, -4.19834584e-02,\n",
       "       -1.73111909e-01,  1.08039071e-01,  4.09266214e-01,  7.21951037e-01,\n",
       "        1.66108048e+00,  3.20740720e-01,  3.47917245e-01,  1.74166116e-01,\n",
       "       -7.69696702e-02, -1.56904122e-01, -1.25138663e-01,  3.43246997e-01,\n",
       "        2.91296278e-01,  5.46154279e-01,  1.22954019e+00, -5.02494104e-01,\n",
       "        9.80364889e-01,  1.98814035e+00, -4.93185245e-01, -1.56618882e-01,\n",
       "       -2.80157222e-01, -4.86806218e-01,  1.39741624e+00, -4.21624000e+00,\n",
       "       -5.94929632e-01, -3.07432201e-01, -2.90551983e-01,  7.29591005e-01,\n",
       "        1.35691458e+00, -4.23524330e+00, -5.89702636e-01, -1.51174021e-01,\n",
       "       -2.89005514e-01, -2.03309281e-01, -1.00526473e+01, -5.12850020e+00,\n",
       "       -6.33504564e-01, -1.70151392e-01, -8.61853566e-04,  6.37402026e-01,\n",
       "        1.06125263e+01, -5.09950361e+00,  7.48175059e+00, -5.00520661e-01,\n",
       "        1.56106184e-01,  6.37402026e-01,  1.06125263e+01, -5.09950361e+00,\n",
       "        7.48175059e+00, -5.00520661e-01,  1.56106184e-01,  4.34353922e-02,\n",
       "       -2.80610480e+00, -1.04186653e+01, -1.25459650e+00, -3.09124136e-01,\n",
       "       -1.08883563e-01,  8.67508647e-01,  4.86079812e+00, -1.03547001e+01,\n",
       "        1.76782444e+00, -6.32320925e-01, -3.08646062e-01,  8.67508647e-01,\n",
       "        4.86079812e+00, -1.03547001e+01,  1.76782444e+00, -6.32320925e-01,\n",
       "       -3.08646062e-01, -2.33115421e+00,  1.05594883e+00,  1.67275166e-02,\n",
       "       -1.93117290e-01, -1.11639775e+00, -5.95294747e-01, -2.32972198e+00,\n",
       "       -2.90605586e-01,  1.40402113e+00, -2.38982403e-01, -1.34411134e+00,\n",
       "       -8.16273954e-01, -1.05404050e+00, -1.60750446e+00, -1.07723446e+00,\n",
       "        3.23225164e-01, -4.91540965e-01, -1.44302261e-01, -1.05300854e+00,\n",
       "        7.86859748e-01,  1.27004942e+00,  3.29917293e-01, -8.83637509e-01,\n",
       "        2.55655763e-01, -3.33417952e+01, -1.34429500e+01,  2.56714791e+01,\n",
       "       -6.56530708e+00, -1.21244334e+01, -1.16960290e+02, -6.07598603e+01,\n",
       "       -3.67447466e+01,  3.68355006e+01,  4.93718594e+01, -5.99424779e+01,\n",
       "       -5.24604172e+00,  2.23925002e+00,  3.47011276e+00, -6.63085580e+00,\n",
       "       -5.68088144e+00, -8.56285095e+00,  0.00000000e+00,  0.00000000e+00,\n",
       "        0.00000000e+00,  0.00000000e+00,  0.00000000e+00,  0.00000000e+00,\n",
       "        0.00000000e+00,  0.00000000e+00,  0.00000000e+00,  0.00000000e+00,\n",
       "        0.00000000e+00,  0.00000000e+00,  0.00000000e+00,  0.00000000e+00,\n",
       "        0.00000000e+00,  0.00000000e+00,  0.00000000e+00,  0.00000000e+00,\n",
       "        0.00000000e+00,  0.00000000e+00,  0.00000000e+00,  0.00000000e+00,\n",
       "        0.00000000e+00,  0.00000000e+00,  0.00000000e+00,  0.00000000e+00,\n",
       "        0.00000000e+00,  0.00000000e+00,  0.00000000e+00,  0.00000000e+00,\n",
       "        0.00000000e+00,  0.00000000e+00,  0.00000000e+00,  0.00000000e+00,\n",
       "        0.00000000e+00,  0.00000000e+00,  0.00000000e+00,  0.00000000e+00,\n",
       "        0.00000000e+00,  0.00000000e+00,  0.00000000e+00,  0.00000000e+00,\n",
       "        0.00000000e+00,  0.00000000e+00,  0.00000000e+00,  0.00000000e+00,\n",
       "        0.00000000e+00,  0.00000000e+00,  0.00000000e+00,  0.00000000e+00,\n",
       "        0.00000000e+00,  0.00000000e+00,  0.00000000e+00,  0.00000000e+00,\n",
       "        0.00000000e+00,  0.00000000e+00,  0.00000000e+00,  0.00000000e+00,\n",
       "        0.00000000e+00,  0.00000000e+00,  0.00000000e+00,  0.00000000e+00,\n",
       "        0.00000000e+00,  0.00000000e+00,  0.00000000e+00,  0.00000000e+00,\n",
       "        0.00000000e+00,  0.00000000e+00,  0.00000000e+00,  0.00000000e+00,\n",
       "        0.00000000e+00,  0.00000000e+00,  0.00000000e+00,  0.00000000e+00,\n",
       "        0.00000000e+00,  0.00000000e+00,  0.00000000e+00,  0.00000000e+00])"
      ]
     },
     "execution_count": 39,
     "metadata": {},
     "output_type": "execute_result"
    }
   ],
   "source": [
    "humanoid_obs[0]"
   ]
  },
  {
   "cell_type": "code",
   "execution_count": 40,
   "id": "cf611482-45e7-49f5-9fe6-378f2665986f",
   "metadata": {},
   "outputs": [
    {
     "data": {
      "text/plain": [
       "(TensorShape([10000, 32]), TensorShape([10000, 32]))"
      ]
     },
     "execution_count": 40,
     "metadata": {},
     "output_type": "execute_result"
    }
   ],
   "source": [
    "#That's it! Just predict for our entire observation set.\n",
    "mu, logvar = vae.encode(humanoid_obs)\n",
    "mu.shape, logvar.shape #makes sense -- a mean and stdev for each dimen of latent space for each sample"
   ]
  },
  {
   "cell_type": "code",
   "execution_count": 44,
   "id": "e3e0a85a-e3e4-477a-8f2a-bea624a053ad",
   "metadata": {},
   "outputs": [],
   "source": [
    "np.save(f'../data/processed/Humanoid-v5_10000_rollout_mu.npy', mu)\n",
    "np.save(f'../data/processed/Humanoid-v5_10000_rollout_logvar.npy', logvar)"
   ]
  },
  {
   "cell_type": "code",
   "execution_count": null,
   "id": "5d1ef572-b72a-4706-a4d7-cf3e3a899a5a",
   "metadata": {},
   "outputs": [],
   "source": [
    "#The 'recipe' is missing task hierarchies!\n",
    "    #We never cared before because mastering domains was infeasible.\n",
    "\n",
    "#Minecraft paper offers a cool example because we have a very clear task hierarchy! But crafting task hierarchies in real environments are nontrivial -- @Nick.\n",
    "\n",
    "#Is foundation models as a prior good enough?\n",
    "#We don't just need information about what environments are like, we need goals! We need to know what it takes to be good at X.\n",
    "    #This is a RICH area for assurance research too. This set of goals is necessarily broad, but need to ensure they align tightly to our values and domain mastery.\n",
    "#Information about computers might help with tasks, but what are the tasks? And how do the tasks present a cohesive picture of domain mastery?"
   ]
  }
 ],
 "metadata": {
  "kernelspec": {
   "display_name": "cs757-final-project",
   "language": "python",
   "name": "cs757-final-project"
  },
  "language_info": {
   "codemirror_mode": {
    "name": "ipython",
    "version": 3
   },
   "file_extension": ".py",
   "mimetype": "text/x-python",
   "name": "python",
   "nbconvert_exporter": "python",
   "pygments_lexer": "ipython3",
   "version": "3.10.16"
  }
 },
 "nbformat": 4,
 "nbformat_minor": 5
}
