{
 "cells": [
  {
   "cell_type": "markdown",
   "id": "f0fb0014-c027-41d5-a802-1bf768a81ab0",
   "metadata": {},
   "source": [
    "# The MuJoCo Environment\n",
    "\n",
    "This notebooks explores the MuJoCo environment, a popular environment for training robotics policies for movement. Since we'll potentially train world models on this environment, let's explore the environment and train a simple policy first. Largely following [this](https://gymnasium.farama.org/tutorials/gymnasium_basics/load_quadruped_model/) guide on the Gymnasium site."
   ]
  },
  {
   "cell_type": "code",
   "execution_count": 8,
   "id": "f625a0c7-27db-4134-b4b7-f924e46ca642",
   "metadata": {},
   "outputs": [],
   "source": [
    "import gymnasium\n",
    "import numpy as np\n",
    "scene_path = '../../mujoco_menagerie/unitree_go1/scene.xml'\n",
    "env = gymnasium.make('Ant-v5', xml_file=scene_path) #loading environment from a scene file"
   ]
  },
  {
   "cell_type": "code",
   "execution_count": 11,
   "id": "3ab39902-27d0-4b04-b81f-ece2e306eb9d",
   "metadata": {},
   "outputs": [],
   "source": [
    "env = gymnasium.make(\n",
    "    'Ant-v5',\n",
    "    xml_file=scene_path,\n",
    "    forward_reward_weight=1,\n",
    "    ctrl_cost_weight=0.05,\n",
    "    contact_cost_weight=5e-4,\n",
    "    healthy_reward=1,\n",
    "    main_body=1,\n",
    "    healthy_z_range=(0.195, 0.75),\n",
    "    include_cfrc_ext_in_observation=True,  # kept the game as the 'Ant' environment\n",
    "    exclude_current_positions_from_observation=False,  # kept the game as the 'Ant' environment\n",
    "    reset_noise_scale=0.1,\n",
    "    frame_skip=25,\n",
    "    max_episode_steps=1000,\n",
    ")"
   ]
  },
  {
   "cell_type": "code",
   "execution_count": null,
   "id": "e8459f9b-2be8-4a8a-99bb-e4b29ffa3233",
   "metadata": {},
   "outputs": [],
   "source": []
  }
 ],
 "metadata": {
  "kernelspec": {
   "display_name": "cs757-final-project",
   "language": "python",
   "name": "cs757-final-project"
  },
  "language_info": {
   "codemirror_mode": {
    "name": "ipython",
    "version": 3
   },
   "file_extension": ".py",
   "mimetype": "text/x-python",
   "name": "python",
   "nbconvert_exporter": "python",
   "pygments_lexer": "ipython3",
   "version": "3.10.16"
  }
 },
 "nbformat": 4,
 "nbformat_minor": 5
}
